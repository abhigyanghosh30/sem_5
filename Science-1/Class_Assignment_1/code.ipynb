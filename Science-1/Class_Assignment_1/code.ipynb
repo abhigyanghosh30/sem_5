{
 "cells": [
  {
   "cell_type": "code",
   "execution_count": 3,
   "metadata": {},
   "outputs": [],
   "source": [
    "import math\n",
    "import random\n",
    "import operator as op\n",
    "from functools import reduce\n",
    "from matplotlib import pyplot as plt\n",
    "\n",
    "def ncr(n, r):\n",
    "    r = min(r, n-r)\n",
    "    numer = reduce(op.mul, range(n, n-r, -1), 1)\n",
    "    denom = reduce(op.mul, range(1, r+1), 1)\n",
    "    return numer / denom\n",
    "\n",
    "def PTheory():\n",
    "    values = []\n",
    "    for i in range(1,100):\n",
    "        values.append(ncr(2*i,i)/math.pow(2,2*i))\n",
    "    return values\n",
    "\n",
    "def new_x(x):\n",
    "    if(random.random()>0.5):\n",
    "        return x+1\n",
    "    else:\n",
    "        return x-1\n",
    "\n",
    "def player_movement(N):\n",
    "    player_1 = 0\n",
    "    player_2 = 0\n",
    "    for i in range(N):\n",
    "        player_1 = new_x(player_1)\n",
    "        player_2 = new_x(player_2)\n",
    "    if player_1 == player_2:\n",
    "        return True\n",
    "    else:\n",
    "        return False\n",
    "\n",
    "def simulation(n=10000):\n",
    "    P = []\n",
    "    for N in range(1,100):\n",
    "        count = 0\n",
    "        for i in range(n):\n",
    "            if player_movement(N):\n",
    "                count+=1\n",
    "        P.append(count/n)\n",
    "    plt.plot(P)\n",
    "    plt.ylabel('P(N)')    \n",
    "    plt.xlabel('N')\n",
    "    plt.plot(PTheory(),c='y')"
   ]
  },
  {
   "cell_type": "code",
   "execution_count": 4,
   "metadata": {},
   "outputs": [],
   "source": [
    "simulation()\n"
   ]
  }
 ],
 "metadata": {
  "kernelspec": {
   "display_name": "Python 3",
   "language": "python",
   "name": "python3"
  },
  "language_info": {
   "codemirror_mode": {
    "name": "ipython",
    "version": 3
   },
   "file_extension": ".py",
   "mimetype": "text/x-python",
   "name": "python",
   "nbconvert_exporter": "python",
   "pygments_lexer": "ipython3",
   "version": "3.7.3"
  }
 },
 "nbformat": 4,
 "nbformat_minor": 2
}
