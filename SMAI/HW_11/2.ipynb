{
 "cells": [
  {
   "cell_type": "code",
   "execution_count": 7,
   "metadata": {},
   "outputs": [
    {
     "name": "stdout",
     "output_type": "stream",
     "text": [
      "(6000, 784) (6000,)\n"
     ]
    }
   ],
   "source": [
    "from __future__ import print_function\n",
    "\n",
    "import numpy as np\n",
    "import matplotlib.pyplot as plt\n",
    "\n",
    "def read_data(filename):\n",
    "    with open(filename, 'r') as f:\n",
    "        lines = f.readlines()\n",
    "    \n",
    "    num_points = len(lines)\n",
    "    dim_points = 28 * 28\n",
    "    data = np.empty((num_points, dim_points))\n",
    "    labels = np.empty(num_points)\n",
    "    \n",
    "    for ind, line in enumerate(lines):\n",
    "        num = line.split(',')\n",
    "        labels[ind] = int(num[0])\n",
    "        data[ind] = [ int(x) for x in num[1:] ]\n",
    "        \n",
    "    return (data, labels)\n",
    "\n",
    "train_data, train_labels = read_data(\"sample_train.csv\")\n",
    "print(train_data.shape, train_labels.shape)"
   ]
  },
  {
   "cell_type": "code",
   "execution_count": 124,
   "metadata": {},
   "outputs": [],
   "source": [
    "def gradient_descent(x,n=0.000001,iterations = 1000):\n",
    "    errors = []\n",
    "    v = np.random.random((784,2))\n",
    "    \n",
    "#     a = v[0,:]\n",
    "#     b[]\n",
    "    \n",
    "    for i in range(iterations):\n",
    "        T_0 = (np.dot(np.dot(x, v), v.T) - x)\n",
    "        T_2 = (np.dot(np.dot(v, v.T), x.T) + -x.T)\n",
    "        t_1 = np.linalg.norm(T_0, 'fro')\n",
    "        gradient = (((1 / np.linalg.norm(T_2, 'fro')) * np.dot(np.dot(x.T, T_0), v)) + ((1 / t_1) * np.dot(np.dot(T_2, x), v)))\n",
    "        errors.append(np.linalg.norm(T_0))\n",
    "        v = v - n * gradient\n",
    "#         print(v)\n",
    "    plt.plot(errors)\n",
    "    return v"
   ]
  },
  {
   "cell_type": "code",
   "execution_count": null,
   "metadata": {},
   "outputs": [],
   "source": [
    "train_data = train_data - np.mean(train_data,axis=0)\n",
    "v_grad = gradient_descent(train_data)"
   ]
  },
  {
   "cell_type": "code",
   "execution_count": null,
   "metadata": {},
   "outputs": [],
   "source": [
    "cov = np.cov(train_data.T)\n",
    "values, vectors = np.linalg.eig(cov)\n",
    "# indices = np.argsort(values)[::-1]\n",
    "# values = values[indices]\n",
    "# vectors = vectors[:,indices]\n",
    "v_cfs = vectors[:,:2]\n",
    "\n",
    "data_cfs = np.dot(train_data,v_cfs)\n",
    "data_grad = np.dot(train_data,v_grad)"
   ]
  },
  {
   "cell_type": "code",
   "execution_count": null,
   "metadata": {},
   "outputs": [],
   "source": [
    "import matplotlib.cm as cm\n",
    "\n",
    "colors = cm.rainbow(np.linspace(0, 1, 10))\n",
    "\n",
    "for i in range(10):\n",
    "    plt.scatter(data_cfs[:,0][train_labels == i],data_cfs[:,1][train_labels == i],color=colors[i])"
   ]
  },
  {
   "cell_type": "code",
   "execution_count": null,
   "metadata": {},
   "outputs": [],
   "source": [
    "for i in range(10):\n",
    "    plt.scatter(data_grad[:,0][train_labels == i],data_grad[:,1][train_labels == i],color=colors[i])"
   ]
  },
  {
   "cell_type": "code",
   "execution_count": null,
   "metadata": {},
   "outputs": [],
   "source": []
  }
 ],
 "metadata": {
  "kernelspec": {
   "display_name": "Python 3",
   "language": "python",
   "name": "python3"
  },
  "language_info": {
   "codemirror_mode": {
    "name": "ipython",
    "version": 3
   },
   "file_extension": ".py",
   "mimetype": "text/x-python",
   "name": "python",
   "nbconvert_exporter": "python",
   "pygments_lexer": "ipython3",
   "version": "3.7.3"
  }
 },
 "nbformat": 4,
 "nbformat_minor": 2
}
