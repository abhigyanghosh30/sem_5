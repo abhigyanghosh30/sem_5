{
 "cells": [
  {
   "cell_type": "code",
   "execution_count": 21,
   "metadata": {},
   "outputs": [],
   "source": [
    "import torch\n",
    "import torchvision\n",
    "import torchvision.transforms as transforms\n",
    "import torch.nn as nn\n",
    "import torch.nn.functional as F\n",
    "import torch.optim as optim\n",
    "from matplotlib import pyplot as plt"
   ]
  },
  {
   "cell_type": "code",
   "execution_count": 22,
   "metadata": {},
   "outputs": [],
   "source": [
    "n_epochs = 100\n",
    "batch_size_train = 64\n",
    "batch_size_test = 1000\n",
    "learning_rate = 0.01\n",
    "momentum = 0.5\n",
    "log_interval = 10\n",
    "\n",
    "random_seed = 1"
   ]
  },
  {
   "cell_type": "code",
   "execution_count": 23,
   "metadata": {},
   "outputs": [],
   "source": [
    "train_loader = torch.utils.data.DataLoader(\n",
    "  torchvision.datasets.MNIST('./data', train=True, download=True,\n",
    "                             transform=torchvision.transforms.Compose([\n",
    "                               torchvision.transforms.ToTensor(),\n",
    "                               torchvision.transforms.Normalize(\n",
    "                                 (0.1307,), (0.3081,))\n",
    "                             ])),\n",
    "  batch_size=batch_size_train, shuffle=True)\n",
    "\n",
    "test_loader = torch.utils.data.DataLoader(\n",
    "  torchvision.datasets.MNIST('./data', train=False, download=True,\n",
    "                             transform=torchvision.transforms.Compose([\n",
    "                               torchvision.transforms.ToTensor(),\n",
    "                               torchvision.transforms.Normalize(\n",
    "                                 (0.1307,), (0.3081,))\n",
    "                             ])),\n",
    "  batch_size=batch_size_test, shuffle=True)"
   ]
  },
  {
   "cell_type": "code",
   "execution_count": 24,
   "metadata": {},
   "outputs": [],
   "source": [
    "examples = enumerate(test_loader)\n",
    "batch_idx, (example_data, example_targets) = next(examples)"
   ]
  },
  {
   "cell_type": "code",
   "execution_count": 25,
   "metadata": {},
   "outputs": [
    {
     "data": {
      "text/plain": [
       "torch.Size([1000, 1, 28, 28])"
      ]
     },
     "execution_count": 25,
     "metadata": {},
     "output_type": "execute_result"
    }
   ],
   "source": [
    "example_data.shape"
   ]
  },
  {
   "cell_type": "code",
   "execution_count": 26,
   "metadata": {},
   "outputs": [],
   "source": [
    "class Net(nn.Module):\n",
    "    def __init__(self):\n",
    "        super(Net, self).__init__()\n",
    "        self.fc1 = nn.Linear(784, 320)\n",
    "        self.fc2 = nn.Linear(320, 50)\n",
    "        self.fc3 = nn.Linear(50, 10)\n",
    "    \n",
    "    def forward(self,x):\n",
    "        x = F.relu(self.fc1(x))\n",
    "        x = F.relu(self.fc2(x))\n",
    "        x = self.fc3(x)\n",
    "        return F.log_softmax(x)"
   ]
  },
  {
   "cell_type": "code",
   "execution_count": 27,
   "metadata": {},
   "outputs": [],
   "source": [
    "network = Net()\n",
    "device = torch.device(\"cuda:0\" if torch.cuda.is_available() else \"cpu\")\n",
    "\n",
    "network.to(device)\n",
    "\n",
    "optimizer = optim.SGD(network.parameters(), lr=learning_rate,\n",
    "                      momentum=momentum)\n",
    "criterion = nn.CrossEntropyLoss()"
   ]
  },
  {
   "cell_type": "code",
   "execution_count": 36,
   "metadata": {},
   "outputs": [],
   "source": [
    "train_losses = []\n",
    "train_counter = []\n",
    "test_losses = []\n",
    "test_counter = [i*len(train_loader.dataset) for i in range(n_epochs + 1)]"
   ]
  },
  {
   "cell_type": "code",
   "execution_count": 40,
   "metadata": {},
   "outputs": [],
   "source": [
    "def train(epoch):\n",
    "    network.train()\n",
    "    running_loss = 0.0\n",
    "    for batch_idx, (data, target) in enumerate(train_loader):\n",
    "        data, target = data.to(device), target.to(device)\n",
    "        data = data.view(data.shape[0],-1)\n",
    "        optimizer.zero_grad()\n",
    "        output = network(data)\n",
    "        loss = criterion(output, target)\n",
    "        loss.backward()\n",
    "        optimizer.step()\n",
    "        running_loss += loss.item()\n",
    "    train_losses.append(running_loss)\n",
    "    print(epoch,running_loss)"
   ]
  },
  {
   "cell_type": "code",
   "execution_count": 38,
   "metadata": {},
   "outputs": [
    {
     "name": "stderr",
     "output_type": "stream",
     "text": [
      "/home/abhigyan.ghosh/anaconda3/envs/pytorch/lib/python3.7/site-packages/ipykernel_launcher.py:12: UserWarning: Implicit dimension choice for log_softmax has been deprecated. Change the call to include dim=X as an argument.\n",
      "  if sys.path[0] == '':\n"
     ]
    },
    {
     "name": "stdout",
     "output_type": "stream",
     "text": [
      "0.19743885356001556\n",
      "0.19561346750742814\n",
      "0.19440150609079865\n",
      "0.1925024935719648\n",
      "0.19134798733489333\n",
      "0.18987797776117077\n",
      "0.18820992384326019\n",
      "0.1867312290373775\n",
      "0.1855170089420426\n",
      "0.18395712365554573\n",
      "0.1825220630773856\n",
      "0.18108272148856486\n",
      "0.1797836473708685\n",
      "0.17866938256565845\n",
      "0.17723645126670817\n",
      "0.17584262674392903\n",
      "0.17465614470756918\n",
      "0.17329177055853506\n",
      "0.1719660297653718\n",
      "0.1709482919545735\n",
      "0.16952072959588804\n",
      "0.16834974713265183\n",
      "0.1670813068399184\n",
      "0.16601847732727038\n",
      "0.16481864190063789\n",
      "0.16360231489579746\n",
      "0.16257205143710962\n",
      "0.1613520488933773\n",
      "0.16029706870995142\n",
      "0.1590948524263922\n",
      "0.15818876746948263\n",
      "0.15707391544583515\n",
      "0.15617165435196512\n",
      "0.15498960662444006\n",
      "0.15396082577717607\n",
      "0.15279368628489465\n",
      "0.15219079963435433\n",
      "0.1509196491019793\n",
      "0.15003076631865042\n",
      "0.14869523074344215\n",
      "0.14799541966976903\n",
      "0.14729383054782375\n",
      "0.14607857105602307\n",
      "0.14522066436597925\n",
      "0.14423250791264763\n",
      "0.1435132082083328\n",
      "0.1425189338542623\n",
      "0.1419444834357364\n",
      "0.1408607019830015\n",
      "0.1399109910325933\n",
      "0.13892300667930613\n",
      "0.13820663846286152\n",
      "0.13752434894877297\n",
      "0.13654524089861297\n",
      "0.13570245321648144\n",
      "0.13514424751519982\n",
      "0.13419641218229117\n",
      "0.1332709597863868\n",
      "0.13249329318250602\n",
      "0.13190131930423377\n",
      "0.1312505292789865\n",
      "0.13037647562339316\n",
      "0.12953606983910504\n",
      "0.12880284115590257\n",
      "0.12809247553389014\n",
      "0.12733380375493653\n",
      "0.12645119944113503\n",
      "0.12584485336742546\n",
      "0.12503881777934112\n",
      "0.12454377035214748\n",
      "0.12372654063915434\n",
      "0.12321585238623811\n",
      "0.1224582978456965\n",
      "0.12171154685961483\n",
      "0.12114841597758641\n",
      "0.12056934579845802\n",
      "0.11975350327224987\n",
      "0.11922085664969018\n",
      "0.11848323631738822\n",
      "0.11790954978528134\n",
      "0.11722747558451374\n",
      "0.11659845322560614\n",
      "0.1159904830249161\n",
      "0.11540194458819997\n",
      "0.11484770113429477\n",
      "0.1141831360755532\n",
      "0.11360442864724973\n",
      "0.11294761321778424\n",
      "0.11239020734751648\n",
      "0.11189401851834191\n",
      "0.11137664843818129\n",
      "0.11070520603379919\n",
      "0.11019309052835524\n",
      "0.10969943809982396\n",
      "0.10905688637990352\n",
      "0.10861088877993552\n",
      "0.10806223109932489\n",
      "0.10754414525490574\n",
      "0.10694175507796899\n",
      "0.10644515402259458\n"
     ]
    }
   ],
   "source": [
    "for epoch in range(1, n_epochs + 1):\n",
    "  train(epoch)"
   ]
  },
  {
   "cell_type": "code",
   "execution_count": 39,
   "metadata": {},
   "outputs": [
    {
     "data": {
      "text/plain": [
       "[<matplotlib.lines.Line2D at 0x1458f5317790>]"
      ]
     },
     "execution_count": 39,
     "metadata": {},
     "output_type": "execute_result"
    },
    {
     "data": {
      "image/png": "[encoded data removed]",
      "text/plain": [
       "<Figure size 432x288 with 1 Axes>"
      ]
     },
     "metadata": {
      "needs_background": "light"
     },
     "output_type": "display_data"
    }
   ],
   "source": [
    "fig = plt.figure()\n",
    "plt.plot([i for i in range(100)],train_losses, color='blue')"
   ]
  },
  {
   "cell_type": "code",
   "execution_count": 47,
   "metadata": {},
   "outputs": [],
   "source": [
    "lr = 1e-5\n",
    "network = Net()\n",
    "device = torch.device(\"cuda:0\" if torch.cuda.is_available() else \"cpu\")\n",
    "\n",
    "network.to(device)\n",
    "\n",
    "optimizer = optim.SGD(network.parameters(), lr=learning_rate,\n",
    "                      momentum=momentum)\n",
    "criterion = nn.CrossEntropyLoss()\n",
    "train_losses = []\n",
    "train_counter = []\n",
    "test_losses = []\n",
    "test_counter = [i*len(train_loader.dataset) for i in range(n_epochs + 1)]"
   ]
  },
  {
   "cell_type": "code",
   "execution_count": 48,
   "metadata": {},
   "outputs": [
    {
     "name": "stderr",
     "output_type": "stream",
     "text": [
      "/home/abhigyan.ghosh/anaconda3/envs/pytorch/lib/python3.7/site-packages/ipykernel_launcher.py:12: UserWarning: Implicit dimension choice for log_softmax has been deprecated. Change the call to include dim=X as an argument.\n",
      "  if sys.path[0] == '':\n"
     ]
    },
    {
     "name": "stdout",
     "output_type": "stream",
     "text": [
      "1 536.2037148326635\n",
      "2 226.1472428664565\n",
      "3 169.1773666627705\n",
      "4 132.87531877867877\n",
      "5 108.68137369770557\n",
      "6 91.7082595154643\n",
      "7 77.68209717515856\n",
      "8 66.90885434346274\n",
      "9 58.004629702772945\n",
      "10 50.46536469552666\n",
      "11 44.38035653810948\n",
      "12 38.87566809472628\n",
      "13 34.50573988072574\n",
      "14 30.62100656295661\n",
      "15 27.147271942114457\n",
      "16 23.996427359525114\n",
      "17 21.126980165136047\n",
      "18 18.908183536259457\n",
      "19 16.822829942801036\n",
      "20 14.74329275492346\n",
      "21 13.275523423100822\n",
      "22 11.892865673697088\n",
      "23 10.534162380266935\n",
      "24 9.476704040600453\n",
      "25 8.47023998212535\n",
      "26 7.707708490896039\n",
      "27 6.966045167006087\n",
      "28 6.204275701136794\n",
      "29 5.70184813789092\n",
      "30 5.194302161165979\n",
      "31 4.757469894611859\n",
      "32 4.362836906919256\n",
      "33 4.036175147717586\n",
      "34 3.72789680477581\n",
      "35 3.4425230277702212\n",
      "36 3.1683104927142267\n",
      "37 2.996147408572142\n",
      "38 2.8298430594295496\n",
      "39 2.6308193980366923\n",
      "40 2.483178168491577\n",
      "41 2.3477981955475116\n",
      "42 2.2225559533326305\n",
      "43 2.088142487948062\n",
      "44 1.9983239097346086\n",
      "45 1.8885541201161686\n",
      "46 1.7968926583344\n",
      "47 1.7333240476655192\n",
      "48 1.651512707112488\n",
      "49 1.5735850984128774\n",
      "50 1.5135671767930035\n",
      "51 1.4671610827717814\n",
      "52 1.409828520630981\n",
      "53 1.3524504093438736\n",
      "54 1.3039644782620599\n",
      "55 1.2606229659195378\n",
      "56 1.218682733229798\n",
      "57 1.1791440384913585\n",
      "58 1.1350536567115341\n",
      "59 1.099460208279197\n",
      "60 1.0666703400493134\n",
      "61 1.0350044744336628\n",
      "62 1.007321107925236\n",
      "63 0.9779832682324923\n",
      "64 0.948108178741677\n",
      "65 0.9197931521157443\n",
      "66 0.9003866777129588\n",
      "67 0.8695432760105177\n",
      "68 0.848660739560728\n",
      "69 0.8299328736029565\n",
      "70 0.8085602270439267\n",
      "71 0.7861460826807161\n",
      "72 0.7675248937230208\n",
      "73 0.7510993614851031\n",
      "74 0.733634387006532\n",
      "75 0.7182700218763785\n",
      "76 0.7006483614368335\n",
      "77 0.6878575979826564\n",
      "78 0.6691718434012728\n",
      "79 0.6556557639269158\n",
      "80 0.6449889602554322\n",
      "81 0.6301588490896393\n",
      "82 0.6189233115392199\n",
      "83 0.6021176702561206\n",
      "84 0.5937414495601843\n",
      "85 0.5830942477205099\n",
      "86 0.5690146287215612\n",
      "87 0.5599522622251243\n",
      "88 0.5481049867039474\n",
      "89 0.538973927974439\n",
      "90 0.5288820234054583\n",
      "91 0.5199966144264181\n",
      "92 0.5115297470129008\n",
      "93 0.5021032352342445\n",
      "94 0.49394364656382095\n",
      "95 0.4863701047252107\n",
      "96 0.4785581332489528\n",
      "97 0.4695570140338532\n",
      "98 0.4624548740539467\n",
      "99 0.4561247110559634\n",
      "100 0.44741249966773466\n"
     ]
    }
   ],
   "source": [
    "for epoch in range(1, n_epochs + 1):\n",
    "  train(epoch)"
   ]
  },
  {
   "cell_type": "code",
   "execution_count": 50,
   "metadata": {},
   "outputs": [
    {
     "data": {
      "text/plain": [
       "[<matplotlib.lines.Line2D at 0x1459112f5b50>]"
      ]
     },
     "execution_count": 50,
     "metadata": {},
     "output_type": "execute_result"
    },
    {
     "data": {
      "image/png": "[encoded data removed]",
      "text/plain": [
       "<Figure size 432x288 with 1 Axes>"
      ]
     },
     "metadata": {
      "needs_background": "light"
     },
     "output_type": "display_data"
    }
   ],
   "source": [
    "fig = plt.figure()\n",
    "plt.plot([i for i in range(100)],train_losses, color='blue')"
   ]
  },
  {
   "cell_type": "code",
   "execution_count": null,
   "metadata": {},
   "outputs": [
    {
     "name": "stderr",
     "output_type": "stream",
     "text": [
      "/home/abhigyan.ghosh/anaconda3/envs/pytorch/lib/python3.7/site-packages/ipykernel_launcher.py:12: UserWarning: Implicit dimension choice for log_softmax has been deprecated. Change the call to include dim=X as an argument.\n",
      "  if sys.path[0] == '':\n"
     ]
    },
    {
     "name": "stdout",
     "output_type": "stream",
     "text": [
      "1 512.6261209025979\n",
      "2 220.1000943928957\n",
      "3 164.19678480178118\n",
      "4 129.22526932228357\n",
      "5 105.58521174825728\n",
      "6 88.60026583820581\n",
      "7 75.64171307859942\n",
      "8 65.43252360541373\n",
      "9 56.87043861299753\n",
      "10 49.82908235560171\n",
      "11 43.18372347694822\n",
      "12 38.615740965353325\n",
      "13 34.12828243756667\n",
      "14 30.1030662197154\n",
      "15 27.008358359802514\n",
      "16 24.016390370437875\n",
      "17 20.896692894864827\n"
     ]
    }
   ],
   "source": [
    "lr = 1e-4\n",
    "network = Net()\n",
    "device = torch.device(\"cuda:1\" if torch.cuda.is_available() else \"cpu\")\n",
    "\n",
    "network.to(device)\n",
    "\n",
    "optimizer = optim.SGD(network.parameters(), lr=learning_rate,\n",
    "                      momentum=momentum)\n",
    "criterion = nn.CrossEntropyLoss()\n",
    "train_losses = []\n",
    "train_counter = []\n",
    "test_losses = []\n",
    "test_counter = [i*len(train_loader.dataset) for i in range(n_epochs + 1)]\n",
    "for epoch in range(1, n_epochs + 1):\n",
    "  train(epoch)"
   ]
  },
  {
   "cell_type": "code",
   "execution_count": null,
   "metadata": {},
   "outputs": [],
   "source": []
  }
 ],
 "metadata": {
  "kernelspec": {
   "display_name": "Python 3",
   "language": "python",
   "name": "python3"
  },
  "language_info": {
   "codemirror_mode": {
    "name": "ipython",
    "version": 3
   },
   "file_extension": ".py",
   "mimetype": "text/x-python",
   "name": "python",
   "nbconvert_exporter": "python",
   "pygments_lexer": "ipython3",
   "version": "3.7.4"
  }
 },
 "nbformat": 4,
 "nbformat_minor": 2
}
