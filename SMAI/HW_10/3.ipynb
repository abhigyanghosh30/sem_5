{
 "cells": [
  {
   "cell_type": "code",
   "execution_count": 228,
   "metadata": {},
   "outputs": [
    {
     "name": "stdout",
     "output_type": "stream",
     "text": [
      "(50000, 1024)\n"
     ]
    }
   ],
   "source": [
    "import numpy as np\n",
    "import pickle\n",
    "from matplotlib import pyplot as plt\n",
    "import matplotlib.cm as cm\n",
    "\n",
    "\n",
    "def unpickle(file):\n",
    "    with open(file, 'rb') as fo:\n",
    "        dict = pickle.load(fo, encoding='bytes')\n",
    "    return dict\n",
    "\n",
    "data1 = unpickle('cifar-10-batches-py/data_batch_1')\n",
    "data2 = unpickle('cifar-10-batches-py/data_batch_2')\n",
    "data3 = unpickle('cifar-10-batches-py/data_batch_3')\n",
    "data4 = unpickle('cifar-10-batches-py/data_batch_4')\n",
    "data5 = unpickle('cifar-10-batches-py/data_batch_5')\n",
    "data = np.vstack((data1[b'data'],data2[b'data'],data3[b'data'],data4[b'data'],data5[b'data']))\n",
    "labels = np.vstack((data1[b'labels'],data2[b'labels'],data3[b'labels'],data4[b'labels'],data5[b'labels']))\n",
    "labels = labels.flatten()\n",
    "\n",
    "\n",
    "# conversion to greyscale\n",
    "data = data/255;\n",
    "data = 0.299 * data[:,:1024] + 0.587 * data[:,1024:2048] + 0.114 * data[:,2048:3072]\n",
    "print(data.shape)"
   ]
  },
  {
   "cell_type": "code",
   "execution_count": 229,
   "metadata": {},
   "outputs": [
    {
     "name": "stdout",
     "output_type": "stream",
     "text": [
      "(10, 1024)\n",
      "[array([0.62085954, 0.61684399, 0.6192767 , ..., 0.52651307, 0.52529052,\n",
      "       0.52687895]), array([0.53933682, 0.53783013, 0.54201906, ..., 0.50958463, 0.51239605,\n",
      "       0.51606008]), array([0.49952858, 0.50023614, 0.50445775, ..., 0.48684128, 0.48560581,\n",
      "       0.48437393]), array([0.45855013, 0.45793956, 0.46062571, ..., 0.47870329, 0.47432901,\n",
      "       0.47137291]), array([0.42820498, 0.42918107, 0.4340095 , ..., 0.49117166, 0.48903283,\n",
      "       0.48587047]), array([0.4135456 , 0.4107127 , 0.41359975, ..., 0.46252762, 0.45824196,\n",
      "       0.45602271]), array([0.43854637, 0.43462743, 0.43607584, ..., 0.4784857 , 0.47688345,\n",
      "       0.47700236]), array([0.54534176, 0.53988823, 0.54223609, ..., 0.51764185, 0.51941863,\n",
      "       0.52361101]), array([0.626294  , 0.62299879, 0.62683224, ..., 0.41143353, 0.4139348 ,\n",
      "       0.41836759]), array([0.68699217, 0.68299502, 0.68654821, ..., 0.52602293, 0.52979477,\n",
      "       0.53372403])]\n"
     ]
    }
   ],
   "source": [
    "indices = np.argsort(labels)\n",
    "data = data[indices]\n",
    "labels = labels[indices]\n",
    "\n",
    "means=[]\n",
    "for i in range(0,50000,5000):\n",
    "    means.append(np.mean(data[i:i+5000],axis=0))\n",
    "print(np.matrix(means).shape)\n",
    "print(means)"
   ]
  },
  {
   "cell_type": "code",
   "execution_count": null,
   "metadata": {},
   "outputs": [],
   "source": []
  },
  {
   "cell_type": "code",
   "execution_count": 230,
   "metadata": {},
   "outputs": [
    {
     "name": "stdout",
     "output_type": "stream",
     "text": [
      "(10, 1024, 20)\n",
      "[array([[-0.03754891, -0.03683068,  0.02609154, ..., -0.03109121,\n",
      "        -0.01378958,  0.01906871],\n",
      "       [-0.03724031, -0.03706461,  0.02547951, ..., -0.03322948,\n",
      "        -0.01394121,  0.01857716],\n",
      "       [-0.03723993, -0.03776547,  0.02513645, ..., -0.03392415,\n",
      "        -0.01086325,  0.01792162],\n",
      "       ...,\n",
      "       [-0.01168246,  0.02093437, -0.05495205, ...,  0.01026373,\n",
      "        -0.04168171,  0.03150537],\n",
      "       [-0.01692191,  0.02119051, -0.04937251, ...,  0.00021214,\n",
      "        -0.0227718 , -0.05952619],\n",
      "       [-0.02373091,  0.02139079, -0.03548878, ...,  0.04193561,\n",
      "         0.03897285, -0.04000357]]), array([[-0.05328069,  0.02102392,  0.01787531, ...,  0.0030374 ,\n",
      "        -0.04351193,  0.03531076],\n",
      "       [-0.05313789,  0.0205935 ,  0.01796487, ...,  0.00463254,\n",
      "        -0.04817307,  0.03051037],\n",
      "       [-0.05342277,  0.02100982,  0.01818916, ...,  0.00897672,\n",
      "        -0.05059172,  0.02466706],\n",
      "       ...,\n",
      "       [-0.00862241, -0.01432586, -0.04058002, ...,  0.00848927,\n",
      "        -0.03429338,  0.03049222],\n",
      "       [-0.0076991 , -0.00422097, -0.05038626, ..., -0.00570739,\n",
      "         0.06376545,  0.00380689],\n",
      "       [-0.00833129, -0.00613086, -0.04659203, ..., -0.00889417,\n",
      "         0.05758761,  0.01170361]]), array([[ 0.04131342, -0.03467115, -0.03098453, ..., -0.02510764,\n",
      "        -0.00540043,  0.00144366],\n",
      "       [ 0.04107653, -0.03499145, -0.0305576 , ..., -0.02578568,\n",
      "        -0.00606198,  0.00677049],\n",
      "       [ 0.04083991, -0.03612911, -0.02955712, ..., -0.02362271,\n",
      "        -0.00565688,  0.01254871],\n",
      "       ...,\n",
      "       [ 0.03161141,  0.0211504 ,  0.00669774, ...,  0.04130755,\n",
      "        -0.05437043,  0.01387191],\n",
      "       [ 0.02839618,  0.02407969,  0.01527698, ...,  0.03439398,\n",
      "        -0.06788701,  0.00846952],\n",
      "       [ 0.03485832,  0.00736495,  0.01429391, ...,  0.01964284,\n",
      "        -0.00201652, -0.01130021]]), array([[ 0.04501138,  0.0421504 ,  0.01508626, ...,  0.05151657,\n",
      "        -0.00030753, -0.01007028],\n",
      "       [ 0.04499665,  0.04289095,  0.01527958, ...,  0.04412919,\n",
      "        -0.00146801, -0.01523953],\n",
      "       [ 0.04532567,  0.04309902,  0.01576632, ...,  0.03479176,\n",
      "        -0.004529  , -0.01853337],\n",
      "       ...,\n",
      "       [ 0.01253514, -0.04349535,  0.04193538, ...,  0.03766876,\n",
      "         0.05389588,  0.02505487],\n",
      "       [ 0.01925057, -0.0373266 ,  0.04719762, ...,  0.03275481,\n",
      "         0.0457924 ,  0.01430383],\n",
      "       [ 0.02203509, -0.03315186,  0.04834709, ...,  0.01851959,\n",
      "         0.03615448,  0.00901623]]), array([[-0.04750493, -0.0264817 ,  0.04578124, ..., -0.01090873,\n",
      "         0.0140907 ,  0.00988213],\n",
      "       [-0.04744887, -0.02742599,  0.04555734, ..., -0.0094566 ,\n",
      "         0.0135086 ,  0.01394428],\n",
      "       [-0.04754749, -0.0281096 ,  0.04582421, ..., -0.0100274 ,\n",
      "         0.00851734,  0.01712384],\n",
      "       ...,\n",
      "       [-0.02994915,  0.03427051,  0.00013449, ..., -0.03389904,\n",
      "         0.01730452, -0.06293972],\n",
      "       [-0.03135679,  0.03395597,  0.00662793, ..., -0.02686368,\n",
      "         0.01681716, -0.06395263],\n",
      "       [-0.03189713,  0.0297654 ,  0.00023787, ...,  0.02275149,\n",
      "         0.01293442,  0.06358746]]), array([[-0.04586496, -0.03609832, -0.00594955, ..., -0.02989261,\n",
      "         0.00019761, -0.01921877],\n",
      "       [-0.04572154, -0.03656599, -0.00650955, ..., -0.03139326,\n",
      "         0.00107595, -0.02180551],\n",
      "       [-0.04551725, -0.03689976, -0.00781151, ..., -0.03558187,\n",
      "        -0.00198011, -0.02058038],\n",
      "       ...,\n",
      "       [-0.01408478,  0.04962982, -0.01512488, ...,  0.04475482,\n",
      "         0.05220027, -0.0034761 ],\n",
      "       [-0.01050223,  0.05389934,  0.01387627, ...,  0.03825238,\n",
      "        -0.05620033,  0.04617453],\n",
      "       [-0.04266299, -0.0131357 ,  0.02954412, ...,  0.01439591,\n",
      "        -0.0339125 ,  0.03607912]]), array([[ 0.04706855, -0.03508059, -0.01589384, ..., -0.00254565,\n",
      "        -0.05282838,  0.00856786],\n",
      "       [ 0.04711386, -0.03533882, -0.01384427, ..., -0.00097451,\n",
      "        -0.05678461,  0.00891424],\n",
      "       [ 0.0472491 , -0.03605824, -0.01262149, ..., -0.00320052,\n",
      "        -0.0578368 ,  0.00862871],\n",
      "       ...,\n",
      "       [ 0.01450097,  0.03460027,  0.02192398, ...,  0.00617446,\n",
      "         0.05441302, -0.05229695],\n",
      "       [ 0.04172943,  0.00168706, -0.01650626, ..., -0.02868427,\n",
      "        -0.01249736, -0.00265421],\n",
      "       [ 0.01613765,  0.00897954,  0.04713831, ...,  0.00372961,\n",
      "         0.0457322 ,  0.06132943]]), array([[ 0.05967065, -0.02623363, -0.02412717, ...,  0.025847  ,\n",
      "         0.00636152,  0.04900688],\n",
      "       [ 0.05962189, -0.02820605, -0.02319878, ...,  0.02601394,\n",
      "         0.00611949,  0.05440822],\n",
      "       [ 0.05974178, -0.02954967, -0.02230333, ...,  0.02808242,\n",
      "         0.00378931,  0.05644384],\n",
      "       ...,\n",
      "       [ 0.02238322,  0.03441796,  0.00310424, ...,  0.05001741,\n",
      "         0.01085107, -0.02300369],\n",
      "       [ 0.01826442,  0.03381023,  0.01354651, ...,  0.01265586,\n",
      "        -0.01015185, -0.03271124],\n",
      "       [ 0.02049502,  0.03385853,  0.00775015, ...,  0.03324469,\n",
      "         0.00226997, -0.02742648]]), array([[-0.04638042, -0.01349311, -0.01732584, ..., -0.03190324,\n",
      "         0.00904837, -0.05254755],\n",
      "       [-0.04656696, -0.0143321 , -0.0176632 , ..., -0.02924222,\n",
      "         0.01083098, -0.05284018],\n",
      "       [-0.04678038, -0.01487376, -0.01785618, ..., -0.02700272,\n",
      "         0.01338558, -0.05306512],\n",
      "       ...,\n",
      "       [-0.01708362,  0.02915034,  0.02668708, ..., -0.05939219,\n",
      "        -0.02540492, -0.01663809],\n",
      "       [-0.00687618,  0.04666047, -0.00320723, ...,  0.02948939,\n",
      "         0.00338896, -0.06550853],\n",
      "       [-0.00923609,  0.04051231,  0.01681833, ...,  0.00695208,\n",
      "        -0.02156098, -0.04644264]]), array([[-0.05230917,  0.02858188,  0.03227674, ...,  0.01613434,\n",
      "         0.02435166, -0.02133274],\n",
      "       [-0.05253023,  0.02942628,  0.03216383, ...,  0.01796085,\n",
      "         0.02575697, -0.02388077],\n",
      "       [-0.05252782,  0.02976384,  0.03251231, ...,  0.01612246,\n",
      "         0.02610228, -0.02833344],\n",
      "       ...,\n",
      "       [-0.03910548,  0.01881521, -0.01773104, ...,  0.01078406,\n",
      "         0.04609793,  0.0082371 ],\n",
      "       [-0.00579439, -0.02249574, -0.02296961, ..., -0.06667527,\n",
      "        -0.00232669,  0.06091106],\n",
      "       [-0.01459367, -0.03528044, -0.0010821 , ...,  0.02148636,\n",
      "         0.01748531,  0.03753483]])]\n"
     ]
    }
   ],
   "source": [
    "class_vectors = []\n",
    "for i in range(0,50000,5000):\n",
    "    values,vectors = np.linalg.eig(np.cov(data[i:i+5000].T))\n",
    "\n",
    "    indices = np.argsort(values)\n",
    "    indices = np.flip(indices)\n",
    "    vectors = vectors[indices]\n",
    "    values = values[indices]\n",
    "    class_vectors.append(vectors[:,:20])\n",
    "print(np.shape(class_vectors))\n",
    "print(class_vectors)"
   ]
  },
  {
   "cell_type": "code",
   "execution_count": 231,
   "metadata": {},
   "outputs": [
    {
     "name": "stdout",
     "output_type": "stream",
     "text": [
      "(5000, 20)\n",
      "(50000, 20)\n"
     ]
    }
   ],
   "source": [
    "red_data = (np.matmul(data[0:5000],class_vectors[0]))\n",
    "print(np.shape(red_data))\n",
    "for i in range(1,10):\n",
    "    red_data = np.vstack((red_data,np.dot(data[i*5000:(i+1)*5000],class_vectors[i])))\n",
    "print(np.shape(red_data))"
   ]
  },
  {
   "cell_type": "code",
   "execution_count": 232,
   "metadata": {},
   "outputs": [
    {
     "name": "stdout",
     "output_type": "stream",
     "text": [
      "(5000, 1024)\n",
      "(50000, 1024)\n",
      "(50000,)\n",
      "[4.124161469911906, 5.342568481254835, 4.249499404816228, 5.249676675591694, 3.835160884476344, 5.1530223037007765, 4.374681556955402, 5.045466193732248, 4.220744286830854, 5.407011952812087]\n"
     ]
    },
    {
     "data": {
      "image/png": "[encoded data removed]",
      "text/plain": [
       "<Figure size 432x288 with 1 Axes>"
      ]
     },
     "metadata": {
      "needs_background": "light"
     },
     "output_type": "display_data"
    }
   ],
   "source": [
    "rec_data = (np.dot(red_data[0:5000],class_vectors[0].T))\n",
    "print(np.shape(rec_data))\n",
    "for i in range(1,10):\n",
    "    rec_data = np.vstack((rec_data,np.dot(red_data[i*5000:(i+1)*5000],class_vectors[i].T)))\n",
    "print(np.shape(rec_data))\n",
    "\n",
    "\n",
    "er_data = np.sqrt(np.sum(np.square(rec_data-data),axis=1))\n",
    "print(er_data.shape)\n",
    "errors = []\n",
    "for i in range(10):\n",
    "    errors.append(np.sum(er_data[i*5000:(i+1)*5000])/5000)\n",
    "plt.bar([i for i in range(len(errors))],errors)\n",
    "print(errors)"
   ]
  },
  {
   "cell_type": "code",
   "execution_count": 233,
   "metadata": {},
   "outputs": [
    {
     "name": "stdout",
     "output_type": "stream",
     "text": [
      "(10, 20)\n",
      "(5000, 20)\n",
      "184639.3560574156\n",
      "183609.74758501418\n",
      "140940.73147393196\n",
      "167309.2058831121\n",
      "128090.07209130656\n",
      "150490.48513044542\n",
      "134186.57560645204\n",
      "152723.97174580567\n",
      "159721.45894989034\n",
      "153839.26267943752\n"
     ]
    }
   ],
   "source": [
    "red_means=[np.mean(red_data[0:5000],axis=0)]\n",
    "for i in range(5000,50000,5000):\n",
    "    red_means.append(np.mean(red_data[i:i+5000],axis=0))\n",
    "print(np.matrix(red_means).shape)\n",
    "\n",
    "split_red_data = np.split(red_data,10)\n",
    "print(np.matrix(split_red_data[0]).shape)\n",
    "\n",
    "for i in range(10):\n",
    "     print(np.sum(np.square(split_red_data[i]-red_means[i])))"
   ]
  },
  {
   "cell_type": "code",
   "execution_count": 239,
   "metadata": {},
   "outputs": [
    {
     "name": "stdout",
     "output_type": "stream",
     "text": [
      "0.0 3.3434849420482937 2.4822256977175683 3.394033042032367 3.5699442099552408 3.5455528515874604 4.1112483327458875 2.6867430317107317 2.104663332838306 2.94239323739722 3.3434849420482937 0.0 1.9601281737750609 2.18856190506332 2.2844160576231696 2.670213725656056 1.9911300863378452 2.103530728479293 2.5254166961193527 2.0073769427835595 2.4822256977175683 1.9601281737750609 0.0 1.1624011338094764 1.209133077881331 1.5920186419475102 1.8084372759849026 0.7940661309016523 2.688829892870146 2.9818777135557157 3.394033042032367 2.18856190506332 1.1624011338094764 0.0 0.6439597372763227 0.8923777613470364 1.0348499088123784 1.2241366648168082 3.418714479981168 3.5879824721287483 3.5699442099552408 2.2844160576231696 1.209133077881331 0.6439597372763227 0.0 1.1132496933983784 0.9822539236704391 1.2849640545075485 3.6851900527127452 3.7774248047839927 3.5455528515874604 2.670213725656056 1.5920186419475102 0.8923777613470364 1.1132496933983784 0.0 1.4611213157701142 1.8189411567240517 3.5397003131646048 4.07284612072491 4.1112483327458875 1.9911300863378452 1.8084372759849026 1.0348499088123784 0.9822539236704391 1.4611213157701142 0.0 1.857326851488016 3.7888830163556335 3.7208501111852774 2.6867430317107317 2.103530728479293 0.7940661309016523 1.2241366648168082 1.2849640545075485 1.8189411567240517 1.857326851488016 0.0 3.060575185897896 2.9878631521678294 2.104663332838306 2.5254166961193527 2.688829892870146 3.418714479981168 3.6851900527127452 3.5397003131646048 3.7888830163556335 3.060575185897896 0.0 2.096593632751908 2.94239323739722 2.0073769427835595 2.9818777135557157 3.5879824721287483 3.7774248047839927 4.07284612072491 3.7208501111852774 2.9878631521678294 2.096593632751908 0.0 "
     ]
    }
   ],
   "source": [
    "for i in range(10):\n",
    "    for j in range(10):\n",
    "        print(np.sqrt(np.sum(np.square(means[i]-means[j]))),end=\" \")\n",
    "    \n",
    "    "
   ]
  },
  {
   "cell_type": "code",
   "execution_count": 235,
   "metadata": {},
   "outputs": [
    {
     "name": "stdout",
     "output_type": "stream",
     "text": [
      "[[2447.2077558  2532.99386581 2556.50384434 2523.88371636 2398.94232912\n",
      "  2525.55460291 2332.94720994 2566.53699766 2796.80773879 2665.68611217]\n",
      " [2795.12385145 1804.64461849 2359.96755094 2338.08790014 2214.00623918\n",
      "  2332.23675122 2141.10858254 2378.98225997 2593.24019608 2481.47639902]\n",
      " [2745.70492188 2287.13026779 1897.53122502 2285.13162636 2165.6294375\n",
      "  2278.60274897 2092.31981114 2327.74771412 2551.4517425  2414.50750658]\n",
      " [2783.81170529 2335.70512546 2355.6453648  1828.40049506 2200.5383075\n",
      "  2321.84002501 2127.86124314 2367.40179364 2586.08010424 2468.52149916]\n",
      " [2639.76979571 2192.59831836 2217.2857209  2181.67417158 1687.43618739\n",
      "  2188.10010844 1986.4185147  2231.93139994 2443.14571689 2325.21171492]\n",
      " [2766.07930289 2310.74192777 2329.89006683 2302.55042475 2187.56547415\n",
      "  1863.27083056 2113.19675264 2350.07386613 2564.60024207 2449.36661082]\n",
      " [2629.14259444 2175.37443008 2199.328776   2164.50347177 2041.8236435\n",
      "  2169.04344975 1582.41915582 2216.22383247 2427.67263928 2304.07718146]\n",
      " [2780.07106481 2330.45881575 2352.09832622 2321.15885343 2204.58668051\n",
      "  2323.2123951  2133.58364288 1922.96809863 2583.12182033 2462.70580581]\n",
      " [2881.62973544 2415.90761389 2447.10217544 2411.21047323 2287.14785843\n",
      "  2409.14994699 2216.25174284 2454.45761067 2206.39882786 2555.72246824]\n",
      " [2841.26575008 2394.97827798 2400.94593045 2384.40832407 2260.09702189\n",
      "  2384.46385234 2183.49539939 2424.80885574 2646.50968751 2072.08822333]]\n"
     ]
    }
   ],
   "source": [
    "errors = np.empty([10,10])\n",
    "for i in range(10):\n",
    "    for j in range(10):\n",
    "        Eab = np.sum(np.square((means[i]+rec_data[j*5000:(j+1)*5000])-data[i*5000:(i+1)*5000]),axis=1)/1024 \n",
    "        Eba = np.sum(np.square((means[j]+rec_data[i*5000:(i+1)*5000])-data[j*5000:(j+1)*5000]),axis=1)/1024\n",
    "        errors[i][j]=(np.sum(Eab)+np.sum(Eba)/2)\n",
    "print(errors)"
   ]
  },
  {
   "cell_type": "code",
   "execution_count": 237,
   "metadata": {},
   "outputs": [
    {
     "name": "stdout",
     "output_type": "stream",
     "text": [
      "[6 4 0]\n",
      "[1 6 4]\n",
      "[2 6 4]\n",
      "[3 6 4]\n",
      "[4 6 3]\n",
      "[5 6 4]\n",
      "[6 4 3]\n",
      "[7 6 4]\n",
      "[8 6 4]\n",
      "[9 6 4]\n"
     ]
    }
   ],
   "source": [
    "for i in range(10):\n",
    "    indices = np.argsort(errors[i])\n",
    "    print(indices[0:3])"
   ]
  },
  {
   "cell_type": "code",
   "execution_count": null,
   "metadata": {},
   "outputs": [],
   "source": []
  }
 ],
 "metadata": {
  "kernelspec": {
   "display_name": "Python 3",
   "language": "python",
   "name": "python3"
  },
  "language_info": {
   "codemirror_mode": {
    "name": "ipython",
    "version": 3
   },
   "file_extension": ".py",
   "mimetype": "text/x-python",
   "name": "python",
   "nbconvert_exporter": "python",
   "pygments_lexer": "ipython3",
   "version": "3.7.4"
  }
 },
 "nbformat": 4,
 "nbformat_minor": 2
}
