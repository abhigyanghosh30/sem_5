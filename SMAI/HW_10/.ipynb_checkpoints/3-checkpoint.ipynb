{
 "cells": [
  {
   "cell_type": "code",
   "execution_count": 126,
   "metadata": {},
   "outputs": [
    {
     "name": "stdout",
     "output_type": "stream",
     "text": [
      "(50000, 1024)\n"
     ]
    }
   ],
   "source": [
    "import numpy as np\n",
    "import pickle\n",
    "from matplotlib import pyplot as plt\n",
    "import matplotlib.cm as cm\n",
    "\n",
    "\n",
    "def unpickle(file):\n",
    "    with open(file, 'rb') as fo:\n",
    "        dict = pickle.load(fo, encoding='bytes')\n",
    "    return dict\n",
    "\n",
    "data1 = unpickle('cifar-10-batches-py/data_batch_1')\n",
    "data2 = unpickle('cifar-10-batches-py/data_batch_2')\n",
    "data3 = unpickle('cifar-10-batches-py/data_batch_3')\n",
    "data4 = unpickle('cifar-10-batches-py/data_batch_4')\n",
    "data5 = unpickle('cifar-10-batches-py/data_batch_5')\n",
    "data = np.vstack((data1[b'data'],data2[b'data'],data3[b'data'],data4[b'data'],data5[b'data']))\n",
    "labels = np.vstack((data1[b'labels'],data2[b'labels'],data3[b'labels'],data4[b'labels'],data5[b'labels']))\n",
    "labels = labels.flatten()\n",
    "\n",
    "\n",
    "# conversion to greyscale\n",
    "data = data/255;\n",
    "data = 0.299 * data[:,:1024] + 0.587 * data[:,1024:2048] + 0.114 * data[:,2048:3072]\n",
    "print(data.shape)"
   ]
  },
  {
   "cell_type": "code",
   "execution_count": 50,
   "metadata": {},
   "outputs": [
    {
     "name": "stdout",
     "output_type": "stream",
     "text": [
      "(10, 1024)\n",
      "[array([0.62085954, 0.61684399, 0.6192767 , ..., 0.52651307, 0.52529052,\n",
      "       0.52687895]), array([0.53933682, 0.53783013, 0.54201906, ..., 0.50958463, 0.51239605,\n",
      "       0.51606008]), array([0.49952858, 0.50023614, 0.50445775, ..., 0.48684128, 0.48560581,\n",
      "       0.48437393]), array([0.45855013, 0.45793956, 0.46062571, ..., 0.47870329, 0.47432901,\n",
      "       0.47137291]), array([0.42820498, 0.42918107, 0.4340095 , ..., 0.49117166, 0.48903283,\n",
      "       0.48587047]), array([0.4135456 , 0.4107127 , 0.41359975, ..., 0.46252762, 0.45824196,\n",
      "       0.45602271]), array([0.43854637, 0.43462743, 0.43607584, ..., 0.4784857 , 0.47688345,\n",
      "       0.47700236]), array([0.54534176, 0.53988823, 0.54223609, ..., 0.51764185, 0.51941863,\n",
      "       0.52361101]), array([0.626294  , 0.62299879, 0.62683224, ..., 0.41143353, 0.4139348 ,\n",
      "       0.41836759]), array([0.68699217, 0.68299502, 0.68654821, ..., 0.52602293, 0.52979477,\n",
      "       0.53372403])]\n"
     ]
    }
   ],
   "source": [
    "indices = np.argsort(labels)\n",
    "data = data[indices]\n",
    "labels = labels[indices]\n",
    "\n",
    "means=[]\n",
    "for i in range(0,50000,5000):\n",
    "    means.append(np.mean(data[i:i+5000],axis=0))\n",
    "print(np.matrix(means).shape)\n",
    "print(means)"
   ]
  },
  {
   "cell_type": "code",
   "execution_count": 162,
   "metadata": {},
   "outputs": [
    {
     "name": "stdout",
     "output_type": "stream",
     "text": [
      "(10, 1024, 20)\n",
      "[array([[ 0.05054877,  0.03108624,  0.02999648, ..., -0.01518025,\n",
      "         0.04622149,  0.02165573],\n",
      "       [ 0.05036621,  0.03152434,  0.02899044, ..., -0.01221595,\n",
      "         0.04687913,  0.01686034],\n",
      "       [ 0.05040057,  0.03205934,  0.02830955, ..., -0.00796401,\n",
      "         0.0469888 ,  0.00864143],\n",
      "       ...,\n",
      "       [ 0.02876052, -0.03919799,  0.03933707, ...,  0.01580746,\n",
      "        -0.04898369, -0.00378091],\n",
      "       [ 0.02931423, -0.0375136 ,  0.03932571, ...,  0.01860102,\n",
      "        -0.0509213 , -0.00670247],\n",
      "       [ 0.02981527, -0.03579619,  0.03941401, ...,  0.01897135,\n",
      "        -0.04998915, -0.00874709]]), array([[ 0.04896592,  0.03446135, -0.02750013, ..., -0.03165248,\n",
      "         0.04248   ,  0.00333672],\n",
      "       [ 0.04908772,  0.03511859, -0.02741069, ..., -0.03326221,\n",
      "         0.04108165,  0.00072536],\n",
      "       [ 0.04932335,  0.03584558, -0.02637857, ..., -0.03319887,\n",
      "         0.04145103, -0.00111706],\n",
      "       ...,\n",
      "       [ 0.0317792 , -0.03548453, -0.03622477, ...,  0.0421979 ,\n",
      "        -0.02855297,  0.03689116],\n",
      "       [ 0.03210459, -0.03482396, -0.03681227, ...,  0.04239644,\n",
      "        -0.02709793,  0.03933616],\n",
      "       [ 0.03255415, -0.0342535 , -0.03743888, ...,  0.04052154,\n",
      "        -0.02397323,  0.04130517]]), array([[ 0.04898792,  0.03162504,  0.02701631, ..., -0.03173029,\n",
      "         0.02309537, -0.01444014],\n",
      "       [ 0.04878043,  0.03202743,  0.02695839, ..., -0.03241295,\n",
      "         0.02741115, -0.0061526 ],\n",
      "       [ 0.04874355,  0.03242955,  0.02701381, ..., -0.02960532,\n",
      "         0.0284928 ,  0.00273563],\n",
      "       ...,\n",
      "       [ 0.02972704, -0.0387441 ,  0.03624365, ...,  0.02836007,\n",
      "        -0.01685082,  0.00430529],\n",
      "       [ 0.03021753, -0.03727784,  0.03660872, ...,  0.03030195,\n",
      "        -0.01543158,  0.00361852],\n",
      "       [ 0.03053676, -0.03609133,  0.03705834, ...,  0.03313447,\n",
      "        -0.01615665,  0.00127204]]), array([[ 0.05001104,  0.03178593, -0.0288567 , ...,  0.02382055,\n",
      "         0.02801377, -0.04511593],\n",
      "       [ 0.04973014,  0.03266356, -0.02847575, ...,  0.02396722,\n",
      "         0.03046995, -0.04192061],\n",
      "       [ 0.04940439,  0.0333597 , -0.02783038, ...,  0.02748584,\n",
      "         0.03119783, -0.03724999],\n",
      "       ...,\n",
      "       [ 0.02947435, -0.03705152, -0.03919063, ..., -0.00563414,\n",
      "        -0.05338537, -0.01091627],\n",
      "       [ 0.02979659, -0.03627743, -0.03912326, ..., -0.00357604,\n",
      "        -0.05703285, -0.0155031 ],\n",
      "       [ 0.03068694, -0.03506413, -0.03891943, ..., -0.00118855,\n",
      "        -0.05795935, -0.0222699 ]]), array([[ 0.04812228,  0.03321694,  0.02956106, ...,  0.0476657 ,\n",
      "         0.01758456, -0.01841143],\n",
      "       [ 0.0481679 ,  0.03418133,  0.02940623, ...,  0.04588874,\n",
      "         0.01886058, -0.0077017 ],\n",
      "       [ 0.04831115,  0.035449  ,  0.02906717, ...,  0.04572124,\n",
      "         0.01901759,  0.00240292],\n",
      "       ...,\n",
      "       [ 0.03073416, -0.03805062,  0.03695986, ..., -0.02721275,\n",
      "        -0.01059441, -0.01355537],\n",
      "       [ 0.0310687 , -0.03676965,  0.03702357, ..., -0.02427309,\n",
      "        -0.01449493, -0.01430177],\n",
      "       [ 0.03161639, -0.03561398,  0.03697147, ..., -0.01903115,\n",
      "        -0.01633226, -0.01804701]]), array([[ 0.04921521,  0.03426495,  0.02626217, ..., -0.03889913,\n",
      "        -0.01133572,  0.02215089],\n",
      "       [ 0.0492409 ,  0.0343506 ,  0.02539455, ..., -0.03779636,\n",
      "        -0.01135841,  0.01553361],\n",
      "       [ 0.04949613,  0.03487124,  0.02530138, ..., -0.03744722,\n",
      "        -0.01001061,  0.01100785],\n",
      "       ...,\n",
      "       [ 0.03168485, -0.03644008,  0.04359824, ...,  0.0329488 ,\n",
      "         0.04342077,  0.02846676],\n",
      "       [ 0.03211427, -0.03517263,  0.04361143, ...,  0.03420032,\n",
      "         0.0476706 ,  0.03368408],\n",
      "       [ 0.03239071, -0.0338928 ,  0.04315385, ...,  0.03228561,\n",
      "         0.0476678 ,  0.03968398]]), array([[ 0.04875984,  0.03142063,  0.03054511, ..., -0.01854986,\n",
      "         0.0120426 , -0.01658825],\n",
      "       [ 0.04876028,  0.03161225,  0.03021455, ..., -0.02299654,\n",
      "         0.01385605, -0.01217109],\n",
      "       [ 0.04883535,  0.03209937,  0.03074695, ..., -0.0257948 ,\n",
      "         0.01303152, -0.0072668 ],\n",
      "       ...,\n",
      "       [ 0.02890819, -0.03968116,  0.03897803, ...,  0.0273015 ,\n",
      "        -0.02265682,  0.00752019],\n",
      "       [ 0.02988673, -0.03765113,  0.03919174, ...,  0.02670485,\n",
      "        -0.02337676,  0.00910013],\n",
      "       [ 0.03067312, -0.03566724,  0.03950837, ...,  0.02694476,\n",
      "        -0.02558693,  0.00721797]]), array([[ 0.04930564, -0.03106228, -0.02971623, ..., -0.04078912,\n",
      "         0.02831672,  0.01415903],\n",
      "       [ 0.04907833, -0.03153796, -0.0289925 , ..., -0.04293094,\n",
      "         0.02753458,  0.01141294],\n",
      "       [ 0.04911364, -0.03230999, -0.02854458, ..., -0.04200414,\n",
      "         0.02939469,  0.00723291],\n",
      "       ...,\n",
      "       [ 0.02956094,  0.03744215, -0.03775448, ...,  0.05385571,\n",
      "        -0.00477056,  0.00862427],\n",
      "       [ 0.02945243,  0.03583108, -0.03832154, ...,  0.05524915,\n",
      "        -0.00559618,  0.00946878],\n",
      "       [ 0.03011874,  0.03502507, -0.03900281, ...,  0.05499119,\n",
      "        -0.00286785,  0.0128709 ]]), array([[ 0.049492  , -0.03284463, -0.02660839, ...,  0.04079105,\n",
      "        -0.02144114,  0.01759287],\n",
      "       [ 0.04927229, -0.03318411, -0.02652698, ...,  0.0428714 ,\n",
      "        -0.02403165,  0.01474122],\n",
      "       [ 0.04961878, -0.03375312, -0.02619133, ...,  0.0455387 ,\n",
      "        -0.02477388,  0.01577493],\n",
      "       ...,\n",
      "       [ 0.02965114,  0.03803648, -0.04216492, ..., -0.01832675,\n",
      "         0.04927236,  0.00558047],\n",
      "       [ 0.02967593,  0.03653812, -0.04212326, ..., -0.01783584,\n",
      "         0.05172822,  0.01133432],\n",
      "       [ 0.03036004,  0.03487552, -0.04146745, ..., -0.0163273 ,\n",
      "         0.05046829,  0.01640948]]), array([[-0.04947686, -0.0297814 , -0.02835881, ..., -0.02705444,\n",
      "         0.01303109, -0.0343366 ],\n",
      "       [-0.04917105, -0.03069225, -0.0283144 , ..., -0.02929676,\n",
      "         0.01194681, -0.02914737],\n",
      "       [-0.04929056, -0.03131415, -0.02843948, ..., -0.02949106,\n",
      "         0.01062359, -0.02324847],\n",
      "       ...,\n",
      "       [-0.02852133,  0.04016221, -0.03713939, ...,  0.04990404,\n",
      "         0.01211527,  0.00144138],\n",
      "       [-0.02866653,  0.03891197, -0.03744872, ...,  0.05097471,\n",
      "         0.01457819,  0.00652999],\n",
      "       [-0.02915865,  0.03809044, -0.03758416, ...,  0.0511854 ,\n",
      "         0.01763288,  0.00776864]])]\n"
     ]
    }
   ],
   "source": [
    "class_vectors = []\n",
    "for i in range(0,50000,5000):\n",
    "    value,vectors = np.linalg.eig(np.cov(data[i:i+5000].T))\n",
    "\n",
    "    indices = np.argsort(values)\n",
    "    vectors = vectors[indices]\n",
    "    values = values[indices]\n",
    "    class_vectors.append(vectors[:,:20])\n",
    "print(np.shape(class_vectors))\n",
    "print(class_vectors)"
   ]
  },
  {
   "cell_type": "code",
   "execution_count": 170,
   "metadata": {},
   "outputs": [
    {
     "name": "stdout",
     "output_type": "stream",
     "text": [
      "(5000, 20)\n",
      "(50000, 20)\n"
     ]
    }
   ],
   "source": [
    "red_data = (np.matmul(data[0:5000],class_vectors[0]))\n",
    "print(np.shape(red_data))\n",
    "for i in range(1,10):\n",
    "    red_data = np.vstack((red_data,np.dot(data[i*5000:(i+1)*5000],class_vectors[i])))\n",
    "print(np.shape(red_data))"
   ]
  },
  {
   "cell_type": "code",
   "execution_count": 175,
   "metadata": {},
   "outputs": [
    {
     "name": "stdout",
     "output_type": "stream",
     "text": [
      "(5000, 1024)\n",
      "(50000, 1024)\n",
      "(10, 4)\n",
      "[13.16299213 26.3252923  14.29930422 ... 16.3546252  15.10696099\n",
      " 16.96316447]\n"
     ]
    },
    {
     "data": {
      "image/png": "[encoded data removed]",
      "text/plain": [
       "<Figure size 432x288 with 1 Axes>"
      ]
     },
     "metadata": {
      "needs_background": "light"
     },
     "output_type": "display_data"
    }
   ],
   "source": [
    "rec_data = (np.dot(red_data[0:5000],class_vectors[0].T))\n",
    "print(np.shape(rec_data))\n",
    "for i in range(1,10):\n",
    "    rec_data = np.vstack((rec_data,np.dot(red_data[i*5000:(i+1)*5000],class_vectors[i].T)))\n",
    "print(np.shape(rec_data))\n",
    "\n",
    "\n",
    "er_data = np.sum(np.square(data-rec_data),axis=1)\n",
    "errors = []\n",
    "for i in range(10):\n",
    "    errors.append(np.sum(er_data[i*5000:(i+1)*5000])/5000)\n",
    "plt.bar([i for i in range(10)],errors)\n",
    "print(er_data)"
   ]
  },
  {
   "cell_type": "code",
   "execution_count": null,
   "metadata": {},
   "outputs": [],
   "source": [
    "red_means=[np.mean(red_data[0:5000],axis=0)]\n",
    "for i in range(5000,50000,5000):\n",
    "    red_means.append(np.mean(red_data[i:i+5000],axis=0))\n",
    "print(np.matrix(red_means).shape)\n",
    "\n",
    "split_red_data = np.split(red_data,10)\n",
    "print(np.matrix(split_red_data[0]).shape)\n",
    "\n",
    "for i in range(10):\n",
    "     print(np.sum(np.square(split_red_data[i]-red_means[i])))"
   ]
  },
  {
   "cell_type": "code",
   "execution_count": null,
   "metadata": {},
   "outputs": [],
   "source": [
    "for i in range(10):\n",
    "    for j in range(10):\n",
    "        print(np.square(means[i]-means[j]))\n",
    "    \n",
    "    "
   ]
  },
  {
   "cell_type": "code",
   "execution_count": null,
   "metadata": {},
   "outputs": [],
   "source": [
    "errors = np.empty([10,10])\n",
    "for i in range(10):\n",
    "    for j in range(10):\n",
    "        Eab = np.sum(np.square((means[i]+rec_data[j*5000:(j+1)*5000])-data[i*5000:(i+1)*5000]),axis=1)/1024 \n",
    "        Eba = np.sum(np.square((means[j]+rec_data[i*5000:(i+1)*5000])-data[j*5000:(j+1)*5000]),axis=1)/1024\n",
    "        errors[i][j]=(np.sum(Eab)+np.sum(Eba)/2)\n",
    "print(errors)"
   ]
  },
  {
   "cell_type": "code",
   "execution_count": null,
   "metadata": {},
   "outputs": [],
   "source": [
    "for i in range(10):\n",
    "    indices = np.argsort(errors[i])\n",
    "    print(indices[:3])"
   ]
  },
  {
   "cell_type": "code",
   "execution_count": null,
   "metadata": {},
   "outputs": [],
   "source": []
  }
 ],
 "metadata": {
  "kernelspec": {
   "display_name": "Python 3",
   "language": "python",
   "name": "python3"
  },
  "language_info": {
   "codemirror_mode": {
    "name": "ipython",
    "version": 3
   },
   "file_extension": ".py",
   "mimetype": "text/x-python",
   "name": "python",
   "nbconvert_exporter": "python",
   "pygments_lexer": "ipython3",
   "version": "3.7.4"
  }
 },
 "nbformat": 4,
 "nbformat_minor": 2
}
