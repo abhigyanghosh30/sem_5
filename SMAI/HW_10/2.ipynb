{
 "cells": [
  {
   "cell_type": "code",
   "execution_count": 190,
   "metadata": {},
   "outputs": [],
   "source": [
    "import csv\n",
    "import numpy as np\n",
    "from matplotlib import pyplot as plt\n",
    "\n",
    "\n",
    "data_rows=[]\n",
    "data_labels=[]\n",
    "with open('wine.data','r') as csvFile:\n",
    "    reader = csv.reader(csvFile)\n",
    "    for row in reader:\n",
    "        data_rows.append(row[1:])\n",
    "        data_labels.append(row[0])\n",
    "data_rows = np.matrix(data_rows).astype(np.float) \n"
   ]
  },
  {
   "cell_type": "code",
   "execution_count": 191,
   "metadata": {},
   "outputs": [
    {
     "name": "stdout",
     "output_type": "stream",
     "text": [
      "(13, 13)\n",
      "[[ 6.59062328e-01  8.56113090e-02  4.71151590e-02 -8.41092903e-01\n",
      "   3.13987812e+00  1.46887218e-01  1.92033222e-01 -1.57542595e-02\n",
      "   6.35175205e-02  1.02828254e+00 -1.33134432e-02  4.16978226e-02\n",
      "   1.64567185e+02]\n",
      " [ 8.56113090e-02  1.24801540e+00  5.02770393e-02  1.07633171e+00\n",
      "  -8.70779534e-01 -2.34337723e-01 -4.58630366e-01  4.07333619e-02\n",
      "  -1.41146982e-01  6.44838183e-01 -1.43325638e-01 -2.92447483e-01\n",
      "  -6.75488666e+01]\n",
      " [ 4.71151590e-02  5.02770393e-02  7.52646353e-02  4.06208278e-01\n",
      "   1.12293658e+00  2.21455913e-02  3.15347299e-02  6.35847140e-03\n",
      "   1.51557799e-03  1.64654327e-01 -4.68215451e-03  7.61835841e-04\n",
      "   1.93197391e+01]\n",
      " [-8.41092903e-01  1.07633171e+00  4.06208278e-01  1.11526862e+01\n",
      "  -3.97476036e+00 -6.71149146e-01 -1.17208281e+00  1.50421856e-01\n",
      "  -3.77176220e-01  1.45024186e-01 -2.09118054e-01 -6.56234368e-01\n",
      "  -4.63355345e+02]\n",
      " [ 3.13987812e+00 -8.70779534e-01  1.12293658e+00 -3.97476036e+00\n",
      "   2.03989335e+02  1.91646988e+00  2.79308703e+00 -4.55563385e-01\n",
      "   1.93283248e+00  6.62052061e+00  1.80851266e-01  6.69308068e-01\n",
      "   1.76915870e+03]\n",
      " [ 1.46887218e-01 -2.34337723e-01  2.21455913e-02 -6.71149146e-01\n",
      "   1.91646988e+00  3.91689535e-01  5.40470422e-01 -3.50451247e-02\n",
      "   2.19373345e-01 -7.99975192e-02  6.20388758e-02  3.11021278e-01\n",
      "   9.81710573e+01]\n",
      " [ 1.92033222e-01 -4.58630366e-01  3.15347299e-02 -1.17208281e+00\n",
      "   2.79308703e+00  5.40470422e-01  9.97718673e-01 -6.68669999e-02\n",
      "   3.73147553e-01 -3.99168626e-01  1.24081969e-01  5.58262255e-01\n",
      "   1.55447492e+02]\n",
      " [-1.57542595e-02  4.07333619e-02  6.35847140e-03  1.50421856e-01\n",
      "  -4.55563385e-01 -3.50451247e-02 -6.68669999e-02  1.54886339e-02\n",
      "  -2.60598680e-02  4.01205097e-02 -7.47117692e-03 -4.44692440e-02\n",
      "  -1.22035863e+01]\n",
      " [ 6.35175205e-02 -1.41146982e-01  1.51557799e-03 -3.77176220e-01\n",
      "   1.93283248e+00  2.19373345e-01  3.73147553e-01 -2.60598680e-02\n",
      "   3.27594668e-01 -3.35039177e-02  3.86645655e-02  2.10932940e-01\n",
      "   5.95543338e+01]\n",
      " [ 1.02828254e+00  6.44838183e-01  1.64654327e-01  1.45024186e-01\n",
      "   6.62052061e+00 -7.99975192e-02 -3.99168626e-01  4.01205097e-02\n",
      "  -3.35039177e-02  5.37444938e+00 -2.76505801e-01 -7.05812576e-01\n",
      "   2.30767480e+02]\n",
      " [-1.33134432e-02 -1.43325638e-01 -4.68215451e-03 -2.09118054e-01\n",
      "   1.80851266e-01  6.20388758e-02  1.24081969e-01 -7.47117692e-03\n",
      "   3.86645655e-02 -2.76505801e-01  5.22449607e-02  9.17662439e-02\n",
      "   1.70002234e+01]\n",
      " [ 4.16978226e-02 -2.92447483e-01  7.61835841e-04 -6.56234368e-01\n",
      "   6.69308068e-01  3.11021278e-01  5.58262255e-01 -4.44692440e-02\n",
      "   2.10932940e-01 -7.05812576e-01  9.17662439e-02  5.04086409e-01\n",
      "   6.99275256e+01]\n",
      " [ 1.64567185e+02 -6.75488666e+01  1.93197391e+01 -4.63355345e+02\n",
      "   1.76915870e+03  9.81710573e+01  1.55447492e+02 -1.22035863e+01\n",
      "   5.95543338e+01  2.30767480e+02  1.70002234e+01  6.99275256e+01\n",
      "   9.91667174e+04]]\n"
     ]
    }
   ],
   "source": [
    "cov = np.cov(data_rows.T)\n",
    "print(cov.shape)\n",
    "print(cov)\n"
   ]
  },
  {
   "cell_type": "code",
   "execution_count": 192,
   "metadata": {},
   "outputs": [
    {
     "name": "stdout",
     "output_type": "stream",
     "text": [
      "(1, 13)\n",
      "(178, 13)\n",
      "[[8.11826538e-01 0.00000000e+00 0.00000000e+00 0.00000000e+00\n",
      "  0.00000000e+00 0.00000000e+00 0.00000000e+00 0.00000000e+00\n",
      "  0.00000000e+00 0.00000000e+00 0.00000000e+00 0.00000000e+00\n",
      "  0.00000000e+00]\n",
      " [0.00000000e+00 1.11714610e+00 0.00000000e+00 0.00000000e+00\n",
      "  0.00000000e+00 0.00000000e+00 0.00000000e+00 0.00000000e+00\n",
      "  0.00000000e+00 0.00000000e+00 0.00000000e+00 0.00000000e+00\n",
      "  0.00000000e+00]\n",
      " [0.00000000e+00 0.00000000e+00 2.74344009e-01 0.00000000e+00\n",
      "  0.00000000e+00 0.00000000e+00 0.00000000e+00 0.00000000e+00\n",
      "  0.00000000e+00 0.00000000e+00 0.00000000e+00 0.00000000e+00\n",
      "  0.00000000e+00]\n",
      " [0.00000000e+00 0.00000000e+00 0.00000000e+00 3.33956377e+00\n",
      "  0.00000000e+00 0.00000000e+00 0.00000000e+00 0.00000000e+00\n",
      "  0.00000000e+00 0.00000000e+00 0.00000000e+00 0.00000000e+00\n",
      "  0.00000000e+00]\n",
      " [0.00000000e+00 0.00000000e+00 0.00000000e+00 0.00000000e+00\n",
      "  1.42824835e+01 0.00000000e+00 0.00000000e+00 0.00000000e+00\n",
      "  0.00000000e+00 0.00000000e+00 0.00000000e+00 0.00000000e+00\n",
      "  0.00000000e+00]\n",
      " [0.00000000e+00 0.00000000e+00 0.00000000e+00 0.00000000e+00\n",
      "  0.00000000e+00 6.25851049e-01 0.00000000e+00 0.00000000e+00\n",
      "  0.00000000e+00 0.00000000e+00 0.00000000e+00 0.00000000e+00\n",
      "  0.00000000e+00]\n",
      " [0.00000000e+00 0.00000000e+00 0.00000000e+00 0.00000000e+00\n",
      "  0.00000000e+00 0.00000000e+00 9.98858685e-01 0.00000000e+00\n",
      "  0.00000000e+00 0.00000000e+00 0.00000000e+00 0.00000000e+00\n",
      "  0.00000000e+00]\n",
      " [0.00000000e+00 0.00000000e+00 0.00000000e+00 0.00000000e+00\n",
      "  0.00000000e+00 0.00000000e+00 0.00000000e+00 1.24453340e-01\n",
      "  0.00000000e+00 0.00000000e+00 0.00000000e+00 0.00000000e+00\n",
      "  0.00000000e+00]\n",
      " [0.00000000e+00 0.00000000e+00 0.00000000e+00 0.00000000e+00\n",
      "  0.00000000e+00 0.00000000e+00 0.00000000e+00 0.00000000e+00\n",
      "  5.72358863e-01 0.00000000e+00 0.00000000e+00 0.00000000e+00\n",
      "  0.00000000e+00]\n",
      " [0.00000000e+00 0.00000000e+00 0.00000000e+00 0.00000000e+00\n",
      "  0.00000000e+00 0.00000000e+00 0.00000000e+00 0.00000000e+00\n",
      "  0.00000000e+00 2.31828587e+00 0.00000000e+00 0.00000000e+00\n",
      "  0.00000000e+00]\n",
      " [0.00000000e+00 0.00000000e+00 0.00000000e+00 0.00000000e+00\n",
      "  0.00000000e+00 0.00000000e+00 0.00000000e+00 0.00000000e+00\n",
      "  0.00000000e+00 0.00000000e+00 2.28571566e-01 0.00000000e+00\n",
      "  0.00000000e+00]\n",
      " [0.00000000e+00 0.00000000e+00 0.00000000e+00 0.00000000e+00\n",
      "  0.00000000e+00 0.00000000e+00 0.00000000e+00 0.00000000e+00\n",
      "  0.00000000e+00 0.00000000e+00 0.00000000e+00 7.09990429e-01\n",
      "  0.00000000e+00]\n",
      " [0.00000000e+00 0.00000000e+00 0.00000000e+00 0.00000000e+00\n",
      "  0.00000000e+00 0.00000000e+00 0.00000000e+00 0.00000000e+00\n",
      "  0.00000000e+00 0.00000000e+00 0.00000000e+00 0.00000000e+00\n",
      "  3.14907474e+02]]\n"
     ]
    }
   ],
   "source": [
    "mean = np.mean(data_rows,axis=0)\n",
    "print(mean.shape)\n",
    "data_rows = data_rows - mean\n",
    "print(data_rows.shape)\n",
    "# std_dev.reshape((13,1))\n",
    "# std_dev = np.diag(std_dev.T)\n",
    "std_dev = np.sqrt(np.diag(np.diag(cov)))\n",
    "print(std_dev)\n",
    "data_rows = np.matmul(data_rows,np.linalg.inv(std_dev))"
   ]
  },
  {
   "cell_type": "code",
   "execution_count": 201,
   "metadata": {},
   "outputs": [
    {
     "data": {
      "text/plain": [
       "<BarContainer object of 13 artists>"
      ]
     },
     "execution_count": 201,
     "metadata": {},
     "output_type": "execute_result"
    },
    {
     "data": {
      "image/png": "[encoded data removed]",
      "text/plain": [
       "<Figure size 432x288 with 1 Axes>"
      ]
     },
     "metadata": {
      "needs_background": "light"
     },
     "output_type": "display_data"
    }
   ],
   "source": [
    "cov = np.cov(data_rows.T)\n",
    "\n",
    "values,vectors = np.linalg.eig(cov)\n",
    "# index = np.argsort(values)\n",
    "# values = values[index]\n",
    "# vectors = vectors[index]\n",
    "# print(values)\n",
    "fig1 = plt.figure()\n",
    "p1 = fig1.add_subplot(111,title='Eigenvalues Plot')\n",
    "p1.bar([i for i in range(len(values))],np.flip(np.sort(values)))"
   ]
  },
  {
   "cell_type": "code",
   "execution_count": 194,
   "metadata": {},
   "outputs": [
    {
     "name": "stdout",
     "output_type": "stream",
     "text": [
      "(13, 2)\n",
      "(178, 13)\n",
      "(178, 2)\n"
     ]
    }
   ],
   "source": [
    "print(vectors[:,11:13].shape)\n",
    "print(data_rows.shape)\n",
    "red_data = np.matmul(data_rows, vectors[:,:2])\n",
    "\n",
    "red_data = np.matrix(red_data)\n",
    "print(red_data.shape)"
   ]
  },
  {
   "cell_type": "code",
   "execution_count": 195,
   "metadata": {
    "scrolled": false
   },
   "outputs": [
    {
     "data": {
      "text/plain": [
       "<matplotlib.collections.PathCollection at 0x7f6820082690>"
      ]
     },
     "execution_count": 195,
     "metadata": {},
     "output_type": "execute_result"
    },
    {
     "data": {
      "image/png": "[encoded data removed]",
      "text/plain": [
       "<Figure size 432x288 with 1 Axes>"
      ]
     },
     "metadata": {
      "needs_background": "light"
     },
     "output_type": "display_data"
    }
   ],
   "source": [
    "fig2 = plt.figure()\n",
    "p2 = fig2.add_subplot(111,title='Scatter')\n",
    "p2.scatter(np.array(red_data[:59,0]),np.array(red_data[:59,1]),c='r')\n",
    "p2.scatter(np.array(red_data[59:131,0]),np.array(red_data[59:131,1]),c='y')\n",
    "p2.scatter(np.array(red_data[131:,0]),np.array(red_data[131:,1]),c='b')"
   ]
  },
  {
   "cell_type": "code",
   "execution_count": null,
   "metadata": {},
   "outputs": [],
   "source": []
  },
  {
   "cell_type": "code",
   "execution_count": null,
   "metadata": {},
   "outputs": [],
   "source": []
  }
 ],
 "metadata": {
  "kernelspec": {
   "display_name": "Python 3",
   "language": "python",
   "name": "python3"
  },
  "language_info": {
   "codemirror_mode": {
    "name": "ipython",
    "version": 3
   },
   "file_extension": ".py",
   "mimetype": "text/x-python",
   "name": "python",
   "nbconvert_exporter": "python",
   "pygments_lexer": "ipython3",
   "version": "3.7.4"
  }
 },
 "nbformat": 4,
 "nbformat_minor": 2
}
