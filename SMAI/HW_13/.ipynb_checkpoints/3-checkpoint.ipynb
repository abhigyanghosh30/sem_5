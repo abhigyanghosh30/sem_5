{
 "cells": [
  {
   "cell_type": "code",
   "execution_count": 58,
   "metadata": {},
   "outputs": [],
   "source": [
    "import numpy as np\n",
    "from sklearn.linear_model import LogisticRegression\n",
    "from sklearn.metrics import confusion_matrix \n",
    "import csv\n",
    "\n",
    "data = []\n",
    "labels = []\n",
    "\n",
    "test_data = []\n",
    "test_labels = []\n",
    "\n",
    "with open('sample_train.csv','r') as f:\n",
    "    rows = csv.reader(f)\n",
    "    for row in rows:\n",
    "        data.append(row[1:])\n",
    "        labels.append(int(row[0]))\n",
    "\n",
    "\n",
    "with open('sample_test.csv','r') as f:\n",
    "    rows = csv.reader(f)\n",
    "    for row in rows:\n",
    "        test_data.append(row[1:])\n",
    "        test_labels.append(int(row[0]))\n",
    "        \n",
    "test_data = np.matrix(test_data).astype(int)"
   ]
  },
  {
   "cell_type": "code",
   "execution_count": 59,
   "metadata": {},
   "outputs": [],
   "source": [
    "model_dict = {}\n",
    "for i in range(10):\n",
    "    for j in range(i):\n",
    "        model_data = []\n",
    "        model_labels = []\n",
    "        for k in range(len(labels)):\n",
    "            if(labels[k]==i):\n",
    "                model_data.append(data[k])\n",
    "                model_labels.append(1)\n",
    "            if(labels[k]==j):\n",
    "                model_data.append(data[k])\n",
    "                model_labels.append(-1)\n",
    "        model_dict[str(i)+str(j)]  = LogisticRegression(random_state=0, solver='lbfgs',max_iter=1000,multi_class='multinomial').fit(model_data, model_labels)"
   ]
  },
  {
   "cell_type": "code",
   "execution_count": 83,
   "metadata": {},
   "outputs": [],
   "source": [
    "accuracy = 0\n",
    "y_predicted = []\n",
    "for label in range(len(test_labels)):\n",
    "    votes = [0,0,0,0,0,0,0,0,0,0]\n",
    "    for i in range(10):\n",
    "        for j in range(i):\n",
    "            temp = test_data[label,:].reshape(1,-1)\n",
    "            pred = model_dict[str(i)+str(j)].predict(temp)\n",
    "            if(pred[0]==1):\n",
    "                votes[i]+=1\n",
    "            else:\n",
    "                votes[j]+=1\n",
    "    indices = np.argsort(votes)\n",
    "    if(test_labels[label] == indices[-1]):\n",
    "        accuracy += 1\n",
    "    y_predicted.append(indices[-1])\n",
    "    "
   ]
  },
  {
   "cell_type": "code",
   "execution_count": 82,
   "metadata": {},
   "outputs": [
    {
     "name": "stdout",
     "output_type": "stream",
     "text": [
      "90.2\n"
     ]
    }
   ],
   "source": [
    "print(accuracy/len(test_labels)*100)\n"
   ]
  },
  {
   "cell_type": "code",
   "execution_count": null,
   "metadata": {},
   "outputs": [],
   "source": []
  }
 ],
 "metadata": {
  "kernelspec": {
   "display_name": "Python 3",
   "language": "python",
   "name": "python3"
  },
  "language_info": {
   "codemirror_mode": {
    "name": "ipython",
    "version": 3
   },
   "file_extension": ".py",
   "mimetype": "text/x-python",
   "name": "python",
   "nbconvert_exporter": "python",
   "pygments_lexer": "ipython3",
   "version": "3.7.3"
  }
 },
 "nbformat": 4,
 "nbformat_minor": 2
}
