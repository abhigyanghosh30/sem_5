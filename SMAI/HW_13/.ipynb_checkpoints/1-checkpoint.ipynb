{
 "cells": [
  {
   "cell_type": "code",
   "execution_count": null,
   "metadata": {},
   "outputs": [],
   "source": [
    "import numpy as np\n",
    "\n",
    "data = [[0, 1, 1],\n",
    "        [1, 1, 1],\n",
    "        [0, 0, 1],\n",
    "        [1, 0, 1]]\n",
    "\n",
    "labels = np.array([1,1,-1,-1])"
   ]
  },
  {
   "cell_type": "code",
   "execution_count": null,
   "metadata": {},
   "outputs": [],
   "source": [
    "print(data)\n",
    "print(labels)"
   ]
  },
  {
   "cell_type": "code",
   "execution_count": null,
   "metadata": {},
   "outputs": [],
   "source": [
    "its = 0\n",
    "\n",
    "def batch_percep(w,n=0.4):\n",
    "\n",
    "    print(w)\n",
    "\n",
    "    global its\n",
    "    its += 1\n",
    "    if(its>100):\n",
    "        return [0,0,0]\n",
    "\n",
    "    errors = []\n",
    "    \n",
    "    for i in range(len(data)):\n",
    "        clas = np.matmul(data[i],w.T)\n",
    "        if(clas*labels[i]<0):\n",
    "            errors.append((data[i],labels[i]))\n",
    "    \n",
    "    if len(errors) == 0:\n",
    "        return w\n",
    "\n",
    "    else:\n",
    "        w_1=[w[0],w[1],w[2]]\n",
    "        for i in range(len(errors)):\n",
    "            w_1[0] += errors[i][0][0] * 2 * n * errors[i][1]\n",
    "            w_1[1] += errors[i][0][1] * 2 * n * errors[i][1]\n",
    "            w_1[2] += errors[i][0][2] * 2 * n * errors[i][1]\n",
    "\n",
    "        return batch_percep(np.array(w_1))    \n"
   ]
  },
  {
   "cell_type": "code",
   "execution_count": null,
   "metadata": {},
   "outputs": [],
   "source": [
    "w_percep = (batch_percep(np.array([1,0,0])))"
   ]
  },
  {
   "cell_type": "code",
   "execution_count": null,
   "metadata": {},
   "outputs": [],
   "source": [
    "its = 0\n",
    "\n",
    "\n",
    "def sigmoid_activation(w,n=1.5,gamma = 10):\n",
    "    print(w)\n",
    "    \n",
    "    global its\n",
    "    \n",
    "    its += 1\n",
    "    if(its>100):\n",
    "        return w\n",
    "    \n",
    "    y = []\n",
    "    for i in range(len(labels)):\n",
    "        y.append((labels[i]+1)/2)\n",
    "    z = gamma * np.matmul(data, w.T)\n",
    "    h = (1 / (1 + np.exp(-z)))\n",
    "    gradient = np.matmul(np.transpose(data), (h - y)) / len(data)\n",
    "    w = w - n * gradient\n",
    "    return sigmoid_activation(w)"
   ]
  },
  {
   "cell_type": "code",
   "execution_count": null,
   "metadata": {},
   "outputs": [],
   "source": [
    "w_sigmoid = (sigmoid_activation(np.array([1,0,0])))"
   ]
  },
  {
   "cell_type": "code",
   "execution_count": null,
   "metadata": {},
   "outputs": [],
   "source": []
  },
  {
   "cell_type": "code",
   "execution_count": null,
   "metadata": {},
   "outputs": [],
   "source": [
    "# margin is min distance in each class. If it is almost equal for all classes, then it is better margin\n",
    "def get_margin(w):\n",
    "    distances = np.absolute(np.matmul(data,w))\n",
    "#     print(distances)\n",
    "    return np.amin(distances[0,0:2])/(w[0]*w[0]+w[1]*w[1]) - np.amin(distances[0,2:4])/(w[0]*w[0]+w[1]*w[1])\n",
    "\n",
    "print(get_margin(w_percep))\n",
    "print(get_margin(w_sigmoid))"
   ]
  },
  {
   "cell_type": "code",
   "execution_count": null,
   "metadata": {},
   "outputs": [],
   "source": []
  },
  {
   "cell_type": "code",
   "execution_count": null,
   "metadata": {},
   "outputs": [],
   "source": []
  }
 ],
 "metadata": {
  "kernelspec": {
   "display_name": "Python 3",
   "language": "python",
   "name": "python3"
  },
  "language_info": {
   "codemirror_mode": {
    "name": "ipython",
    "version": 3
   },
   "file_extension": ".py",
   "mimetype": "text/x-python",
   "name": "python",
   "nbconvert_exporter": "python",
   "pygments_lexer": "ipython3",
   "version": "3.7.3"
  }
 },
 "nbformat": 4,
 "nbformat_minor": 2
}
