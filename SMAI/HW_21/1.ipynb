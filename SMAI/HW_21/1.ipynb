{
 "cells": [
  {
   "cell_type": "code",
   "execution_count": 13,
   "metadata": {},
   "outputs": [
    {
     "name": "stdout",
     "output_type": "stream",
     "text": [
      "Iterations# 3\n",
      "Final Labels: [0,0,0,1]\n"
     ]
    }
   ],
   "source": [
    "import numpy as np \n",
    "from sklearn.cluster import KMeans\n",
    "X = np.array([[1,1],[1,-1],[-1,1],[-1,-1]])\n",
    "kmeans = KMeans(n_clusters=2, init=np.asarray([[0, 0], [0, 0]]), n_init=1).fit(X)\n",
    "print(\"Iterations#\",kmeans.n_iter_)\n",
    "print(\"Final Labels: [%d,%d,%d,%d]\"%tuple(kmeans.labels_))\n"
   ]
  },
  {
   "cell_type": "code",
   "execution_count": 8,
   "metadata": {},
   "outputs": [
    {
     "name": "stdout",
     "output_type": "stream",
     "text": [
      "Iteration #1\n",
      "labels [0,0,0,1]\n",
      "Interita: 6.0\n",
      "Iteration #2\n",
      "labels [0,0,0,1]\n",
      "Interita: 5.333333333333334\n",
      "Iteration #3\n",
      "labels [0,0,0,1]\n",
      "Interita: 5.333333333333334\n"
     ]
    }
   ],
   "source": [
    "for i in range(3):\n",
    "    kmeans = KMeans(n_clusters=2, init=np.asarray([[0, 0], [0, 0]]), n_init=1, max_iter=i+1).fit(X)\n",
    "    print(\"Iteration #%d\"%(i+1))\n",
    "    print(\"labels [%d,%d,%d,%d]\"%tuple(kmeans.labels_))\n",
    "    print(\"Interita:\",kmeans.inertia_)"
   ]
  },
  {
   "cell_type": "code",
   "execution_count": null,
   "metadata": {},
   "outputs": [],
   "source": []
  }
 ],
 "metadata": {
  "kernelspec": {
   "display_name": "Python 3",
   "language": "python",
   "name": "python3"
  },
  "language_info": {
   "codemirror_mode": {
    "name": "ipython",
    "version": 3
   },
   "file_extension": ".py",
   "mimetype": "text/x-python",
   "name": "python",
   "nbconvert_exporter": "python",
   "pygments_lexer": "ipython3",
   "version": "3.7.3"
  }
 },
 "nbformat": 4,
 "nbformat_minor": 2
}
