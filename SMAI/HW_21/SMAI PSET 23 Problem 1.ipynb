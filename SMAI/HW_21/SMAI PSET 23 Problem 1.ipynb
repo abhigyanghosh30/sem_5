{
 "cells": [
  {
   "cell_type": "code",
   "execution_count": 1,
   "metadata": {},
   "outputs": [],
   "source": [
    "# SMAI PSET 23\n",
    "# Problem 1\n",
    "# Author: Sayar Ghosh Roy"
   ]
  },
  {
   "cell_type": "code",
   "execution_count": 1,
   "metadata": {},
   "outputs": [],
   "source": [
    "import numpy as np\n",
    "points = [ (1,1), (1, -1), (-1, -1), (-1, 1)]\n",
    "x = [ point[0] for point in points ]\n",
    "y = [ point[1] for point in points ]"
   ]
  },
  {
   "cell_type": "code",
   "execution_count": 2,
   "metadata": {},
   "outputs": [
    {
     "name": "stdout",
     "output_type": "stream",
     "text": [
      "Final Labels: [0 0 0 1]\n",
      "Number of Iterations: 3\n"
     ]
    }
   ],
   "source": [
    "# K-means clustering for 2 clusters\n",
    "# Experiment to calculate number of iterations needed for convergence\n",
    "from sklearn.cluster import KMeans\n",
    "cluster_maker = KMeans(n_clusters=2, init=np.asarray([[0, 0], [0, 0]]), n_init=1, max_iter=10000)\n",
    "model = cluster_maker.fit(np.asarray(points))\n",
    "print(\"Final Labels:\", model.labels_)\n",
    "print(\"Number of Iterations:\", model.n_iter_)\n",
    "# Experiment Results: 3 iterations required"
   ]
  },
  {
   "cell_type": "code",
   "execution_count": 3,
   "metadata": {},
   "outputs": [
    {
     "name": "stdout",
     "output_type": "stream",
     "text": [
      "Labels after 1 iteration: [0 0 0 1]\n",
      "Inertia after 1 iteration: 6.0\n",
      "Labels after 2 iterations: [0 0 0 1]\n",
      "Inertia after 2 iterations: 5.333333333333334\n",
      "Labels after 3 iterations: [0 0 0 1]\n",
      "Inertia after 3 iterations: 5.333333333333334\n",
      "Convergence achieved\n"
     ]
    }
   ],
   "source": [
    "# Oscillations do not continue because of the implementation of K-means\n",
    "# Lets check the assignments at the end of each iteration:\n",
    "\n",
    "def get_plural(n):\n",
    "    if n > 1:\n",
    "        return \"s\"\n",
    "    else:\n",
    "        return \"\"\n",
    "\n",
    "for limit in range(1, 4):\n",
    "    cluster_maker_limit = KMeans(n_clusters=2, init=np.asarray([[0, 0], [0, 0]]), n_init=1, max_iter=limit)\n",
    "    model_limit = cluster_maker_limit.fit(np.asarray(points))\n",
    "    print(\"Labels after \" + str(limit) + \" iteration\" + get_plural(limit) + \":\", model_limit.labels_)\n",
    "    print(\"Inertia after \" + str(limit) + \" iteration\" + get_plural(limit) + \":\", model_limit.inertia_)\n",
    "print(\"Convergence achieved\")"
   ]
  },
  {
   "cell_type": "code",
   "execution_count": 4,
   "metadata": {},
   "outputs": [],
   "source": [
    "# Clearly, the inertia is the same after iterations 2 and 3.\n",
    "# Inertia reduces from iteration 1 to iteration 2\n",
    "# the labels however, do not change\n",
    "# K-means required an extra iteration to converge than what it ideally should have.\n",
    "# for a clearer analysis, refer:\n",
    "# http://cs229.stanford.edu/notes/cs229-notes7a.pdf"
   ]
  },
  {
   "cell_type": "code",
   "execution_count": 5,
   "metadata": {},
   "outputs": [],
   "source": [
    "# Thank You ^_^"
   ]
  }
 ],
 "metadata": {
  "kernelspec": {
   "display_name": "Python 3",
   "language": "python",
   "name": "python3"
  },
  "language_info": {
   "codemirror_mode": {
    "name": "ipython",
    "version": 3
   },
   "file_extension": ".py",
   "mimetype": "text/x-python",
   "name": "python",
   "nbconvert_exporter": "python",
   "pygments_lexer": "ipython3",
   "version": "3.7.3"
  }
 },
 "nbformat": 4,
 "nbformat_minor": 2
}
