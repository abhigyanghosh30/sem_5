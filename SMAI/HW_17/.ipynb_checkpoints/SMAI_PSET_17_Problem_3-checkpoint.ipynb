{
 "cells": [
  {
   "cell_type": "code",
   "execution_count": 13,
   "metadata": {},
   "outputs": [],
   "source": [
    "# SMAI PSET 17\n",
    "# Problem 3\n",
    "# Author: Sayar Ghosh Roy"
   ]
  },
  {
   "cell_type": "code",
   "execution_count": 3,
   "metadata": {},
   "outputs": [],
   "source": [
    "import numpy as np\n",
    "import matplotlib.pyplot as plt"
   ]
  },
  {
   "cell_type": "code",
   "execution_count": 4,
   "metadata": {},
   "outputs": [],
   "source": [
    "alphas = [0.6, 0.4, 0.3, -0.2, -0.1]\n",
    "#alphas = [0.1, 0.1, 0.1, 0.1, 1]\n",
    "sigma = 0.5"
   ]
  },
  {
   "cell_type": "code",
   "execution_count": 5,
   "metadata": {},
   "outputs": [],
   "source": [
    "n = [i for i in range(1, 6)]\n",
    "x = [-2, -1, 0, 2, 1]\n",
    "\n",
    "datapoints_count = 3000\n",
    "# train on first 2500\n",
    "# test on next 500\n",
    "for i in range(datapoints_count - 5):\n",
    "    num = n[len(n) - 1] + 1\n",
    "    term = np.dot(np.asarray(x)[len(x) - 5:len(x)], np.asarray(alphas)) + np.random.normal(0, sigma, 1)[0]\n",
    "    n.append(num)\n",
    "    x.append(term)"
   ]
  },
  {
   "cell_type": "code",
   "execution_count": 6,
   "metadata": {},
   "outputs": [
    {
     "data": {
      "image/png": "[encoded data removed]",
      "text/plain": [
       "<Figure size 432x288 with 1 Axes>"
      ]
     },
     "metadata": {
      "needs_background": "light"
     },
     "output_type": "display_data"
    }
   ],
   "source": [
    "plt.figure()\n",
    "plt.title('x v/s n')\n",
    "plt.xlabel('n')\n",
    "plt.ylabel('x')\n",
    "plt.scatter(n[:2500], x[:2500])\n",
    "plt.show()"
   ]
  },
  {
   "cell_type": "code",
   "execution_count": 18,
   "metadata": {},
   "outputs": [
    {
     "data": {
      "text/plain": [
       "6.872193719337146"
      ]
     },
     "execution_count": 18,
     "metadata": {},
     "output_type": "execute_result"
    }
   ],
   "source": [
    "def test_loss(w):\n",
    "    # Computes loss of the test set i.e the last 500 datapoints\n",
    "    get_d = np.shape(w)[0]\n",
    "    total_loss = 0\n",
    "    \n",
    "    for k in range(get_d + 1 + 2500, 3000):\n",
    "        total_loss += np.power(x[k] - np.dot(np.asarray(w), np.asarray(x)[k - get_d : k]), 2)\n",
    "    return total_loss / len(range(get_d + 1, len(n)))\n",
    "        \n",
    "test_loss([0, 0])"
   ]
  },
  {
   "cell_type": "code",
   "execution_count": 19,
   "metadata": {},
   "outputs": [
    {
     "data": {
      "text/plain": [
       "17.542633177210522"
      ]
     },
     "execution_count": 19,
     "metadata": {},
     "output_type": "execute_result"
    }
   ],
   "source": [
    "def grad(w):\n",
    "    # Computes gradient of the train set i.e the first 2500 datapoints\n",
    "    get_d = np.shape(w)[0]\n",
    "    total_loss = 0\n",
    "    \n",
    "    for k in range(get_d + 1, 2500):\n",
    "        total_loss += (-2) * (x[k] - np.dot(np.asarray(w), np.asarray(x)[k - get_d : k])) * (np.sum(np.asarray(x)[k - get_d : k]))\n",
    "    return total_loss / len(range(get_d + 1, len(n)))\n",
    "\n",
    "grad([1, 1])"
   ]
  },
  {
   "cell_type": "code",
   "execution_count": null,
   "metadata": {},
   "outputs": [],
   "source": [
    "# One Layer Perceptron\n",
    "# No Activation function\n",
    "# Since we want to perform a regression\n",
    "\n",
    "def run_gradient_descent(d):\n",
    "    old_w = np.ones(d)\n",
    "    w = np.zeros(d)\n",
    "\n",
    "    learn_rate = 0.001\n",
    "    iter_count  = 0\n",
    "    max_iter  = 1000\n",
    "\n",
    "    while np.linalg.norm(w - old_w) > 0.05:\n",
    "        old_w = w\n",
    "        w = w - learn_rate * grad(w)\n",
    "        iter_count += 1\n",
    "        if iter_count > max_iter:\n",
    "            break\n",
    "    \n",
    "    return w"
   ]
  },
  {
   "cell_type": "code",
   "execution_count": null,
   "metadata": {},
   "outputs": [],
   "source": [
    "# Getting the predicted labels on the train_set\n",
    "weights = run_gradient_descent(10)\n",
    "n_tests = []\n",
    "n_test_preds = []\n",
    "n_test_gold = []\n",
    "\n",
    "for i in range(2521, 3000):\n",
    "    n_tests.append(i)\n",
    "    n_test_preds.append(np.dot(np.asarray(weights), np.asarray(x)[i - 10 - 1 : i - 1]))\n",
    "    n_test_gold.append(x[i])\n",
    "    \n",
    "plt.figure()\n",
    "plt.title('Prediction v/s Test Labels')\n",
    "plt.xlabel('n')\n",
    "plt.ylabel('x')\n",
    "plt.plot(n_tests, n_test_gold, color = 'green', label = 'Test Labels')\n",
    "plt.plot(n_tests, n_test_preds, color = 'red', label = 'Prediction')\n",
    "plt.legend()\n",
    "plt.show()"
   ]
  },
  {
   "cell_type": "code",
   "execution_count": null,
   "metadata": {},
   "outputs": [],
   "source": [
    "#Plotting the loss v/s d graph\n",
    "test_d = []\n",
    "test_losses = []\n",
    "for k in range(1, 20):\n",
    "    weights = run_gradient_descent(k)\n",
    "    calc_loss = test_loss(weights)\n",
    "    test_d.append(k)\n",
    "    test_losses.append(calc_loss)\n",
    "    \n",
    "plt.figure()\n",
    "plt.title('Test Loss v/s d')\n",
    "plt.xlabel('d')\n",
    "plt.ylabel('Test Loss')\n",
    "plt.plot(test_d, test_losses)\n",
    "plt.show()"
   ]
  },
  {
   "cell_type": "code",
   "execution_count": null,
   "metadata": {},
   "outputs": [],
   "source": [
    "# ^_^ Thank You"
   ]
  }
 ],
 "metadata": {
  "kernelspec": {
   "display_name": "Python 3",
   "language": "python",
   "name": "python3"
  },
  "language_info": {
   "codemirror_mode": {
    "name": "ipython",
    "version": 3
   },
   "file_extension": ".py",
   "mimetype": "text/x-python",
   "name": "python",
   "nbconvert_exporter": "python",
   "pygments_lexer": "ipython3",
   "version": "3.7.3"
  }
 },
 "nbformat": 4,
 "nbformat_minor": 2
}
