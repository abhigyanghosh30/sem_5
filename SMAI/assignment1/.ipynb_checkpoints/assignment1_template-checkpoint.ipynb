{
 "cells": [
  {
   "cell_type": "markdown",
   "metadata": {
    "editable": false
   },
   "source": [
    "# Assignment 1\n",
    "This jupyter notebook is meant to be used in conjunction with the full questions in the assignment pdf.\n",
    "\n",
    "## Instructions\n",
    "- Write your code and analyses in the indicated cells.\n",
    "- Ensure that this notebook runs without errors when the cells are run in sequence.\n",
    "- Do not attempt to change the contents of the other cells.\n",
    "\n",
    "## Submission\n",
    "- Ensure that this notebook runs without errors when the cells are run in sequence.\n",
    "- Rename the notebook to `<roll_number>.ipynb` and submit ONLY the notebook file on moodle."
   ]
  },
  {
   "cell_type": "markdown",
   "metadata": {
    "editable": false
   },
   "source": [
    "### Environment setup\n",
    "\n",
    "The following code reads the train and test data (provided along with this template) and outputs the data and labels as numpy arrays. Use these variables in your code.\n",
    "\n",
    "---\n",
    "#### Note on conventions\n",
    "In mathematical notation, the convention is tha data matrices are column-indexed, which means that a input data $x$ has shape $[d, n]$, where $d$ is the number of dimensions and $n$ is the number of data points, respectively.\n",
    "\n",
    "Programming languages have a slightly different convention. Data matrices are of shape $[n, d]$. This has the benefit of being able to access the ith data point as a simple `data[i]`.\n",
    "\n",
    "What this means is that you need to be careful about your handling of matrix dimensions. For example, while the covariance matrix (of shape $[d,d]$) for input data $x$ is calculated as $(x-u)(x-u)^T$, while programming you would do $(x-u)^T(x-u)$ to get the correct output shapes."
   ]
  },
  {
   "cell_type": "code",
   "execution_count": 2,
   "metadata": {
    "editable": false,
    "scrolled": true
   },
   "outputs": [
    {
     "name": "stdout",
     "output_type": "stream",
     "text": [
      "(6000, 784) (1000, 784)\n",
      "(6000,) (1000,)\n"
     ]
    }
   ],
   "source": [
    "from __future__ import print_function\n",
    "\n",
    "import numpy as np\n",
    "import matplotlib.pyplot as plt\n",
    "\n",
    "def read_data(filename):\n",
    "    with open(filename, 'r') as f:\n",
    "        lines = f.readlines()\n",
    "    \n",
    "    num_points = len(lines)\n",
    "    dim_points = 28 * 28\n",
    "    data = np.empty((num_points, dim_points))\n",
    "    labels = np.empty(num_points)\n",
    "    \n",
    "    for ind, line in enumerate(lines):\n",
    "        num = line.split(',')\n",
    "        labels[ind] = int(num[0])\n",
    "        data[ind] = [ int(x) for x in num[1:] ]\n",
    "        \n",
    "    return (data, labels)\n",
    "\n",
    "train_data, train_labels = read_data(\"sample_train.csv\")\n",
    "test_data, test_labels = read_data(\"sample_test.csv\")\n",
    "print(train_data.shape, test_data.shape)\n",
    "print(train_labels.shape, test_labels.shape)"
   ]
  },
  {
   "cell_type": "markdown",
   "metadata": {
    "editable": false
   },
   "source": [
    "# Questions\n",
    "---\n",
    "## 1.3.1 Representation\n",
    "The next code cells, when run, should plot the eigen value spectrum of the covariance matrices corresponding to the mentioned samples. Normalize the eigen value spectrum and only show the first 100 values."
   ]
  },
  {
   "cell_type": "code",
   "execution_count": 3,
   "metadata": {},
   "outputs": [
    {
     "name": "stderr",
     "output_type": "stream",
     "text": [
      "/home/masterg/anaconda3/envs/SMAI_A1/lib/python3.7/site-packages/numpy/core/numeric.py:591: ComplexWarning: Casting complex values to real discards the imaginary part\n",
      "  return array(a, dtype, copy=False, order=order, subok=True)\n"
     ]
    },
    {
     "data": {
      "text/plain": [
       "<matplotlib.collections.PathCollection at 0x7f29b799a810>"
      ]
     },
     "execution_count": 3,
     "metadata": {},
     "output_type": "execute_result"
    },
    {
     "data": {
      "image/png": "[encoded data removed]",
      "text/plain": [
       "<Figure size 432x288 with 1 Axes>"
      ]
     },
     "metadata": {
      "needs_background": "light"
     },
     "output_type": "display_data"
    }
   ],
   "source": [
    "# Samples corresponding to the last digit of your roll number (plot a)\n",
    "milabels = []\n",
    "for i in range(0,len(train_labels)):\n",
    "    if train_labels[i]==9:\n",
    "        milabels.append(train_data[i])\n",
    "milabels = np.array(milabels)\n",
    "milabels = milabels.transpose()\n",
    "values, vectors = np.linalg.eig(np.cov(milabels))\n",
    "norm = np.linalg.norm(values)\n",
    "values = values/norm\n",
    "values.sort()\n",
    "plt.scatter([i for i in range(100)],values[684:784])\n",
    "\n",
    "                "
   ]
  },
  {
   "cell_type": "code",
   "execution_count": 4,
   "metadata": {},
   "outputs": [
    {
     "data": {
      "text/plain": [
       "<matplotlib.collections.PathCollection at 0x7f29e290b650>"
      ]
     },
     "execution_count": 4,
     "metadata": {},
     "output_type": "execute_result"
    },
    {
     "data": {
      "image/png": "[encoded data removed]",
      "text/plain": [
       "<Figure size 432x288 with 1 Axes>"
      ]
     },
     "metadata": {
      "needs_background": "light"
     },
     "output_type": "display_data"
    }
   ],
   "source": [
    "# Samples corresponding to the last digit of (your roll number + 1) % 10 (plot b)\n",
    "yolabels = []\n",
    "for i in range(0,len(train_labels)):\n",
    "    if train_labels[i]==0:\n",
    "        yolabels.append(train_data[i])\n",
    "yolabels = np.array(yolabels)\n",
    "yolabels = yolabels.transpose()\n",
    "values, vectors = np.linalg.eig(np.cov(yolabels))\n",
    "norm = np.linalg.norm(values)\n",
    "values = values/norm\n",
    "values.sort()\n",
    "plt.scatter([i for i in range(0,100)],values[684:784])\n"
   ]
  },
  {
   "cell_type": "code",
   "execution_count": 5,
   "metadata": {},
   "outputs": [
    {
     "data": {
      "text/plain": [
       "<matplotlib.collections.PathCollection at 0x7f29b483e290>"
      ]
     },
     "execution_count": 5,
     "metadata": {},
     "output_type": "execute_result"
    },
    {
     "data": {
      "image/png": "[encoded data removed]",
      "text/plain": [
       "<Figure size 432x288 with 1 Axes>"
      ]
     },
     "metadata": {
      "needs_background": "light"
     },
     "output_type": "display_data"
    }
   ],
   "source": [
    "# All training data (plot c)\n",
    "train_trans = train_data.transpose()\n",
    "values, vectors = np.linalg.eig(np.cov(train_trans))\n",
    "norm = np.linalg.norm(values)\n",
    "values =values/norm\n",
    "values.sort()\n",
    "plt.scatter([i for i in range(100)],values[684:784])"
   ]
  },
  {
   "cell_type": "code",
   "execution_count": 6,
   "metadata": {},
   "outputs": [
    {
     "data": {
      "text/plain": [
       "<matplotlib.collections.PathCollection at 0x7f29b47b5b50>"
      ]
     },
     "execution_count": 6,
     "metadata": {},
     "output_type": "execute_result"
    },
    {
     "data": {
      "image/png": "[encoded data removed]",
      "text/plain": [
       "<Figure size 432x288 with 1 Axes>"
      ]
     },
     "metadata": {
      "needs_background": "light"
     },
     "output_type": "display_data"
    }
   ],
   "source": [
    "# Randomly selected 50% of the training data (plot d)\n",
    "import random\n",
    "random_data = np.copy(train_data)\n",
    "random.shuffle(random_data)\n",
    "half_data = train_data[0:3000]\n",
    "half_data = np.transpose(half_data)\n",
    "values, vectors = np.linalg.eig(np.cov(half_data))\n",
    "norm = np.linalg.norm(values)\n",
    "values = values/norm\n",
    "values.sort()\n",
    "plt.scatter([i for i in range(100)],values[684:784])"
   ]
  },
  {
   "cell_type": "markdown",
   "metadata": {
    "editable": false
   },
   "source": [
    "### 1.3.1 Question 1\n",
    "- Are plots a and b different? Why?\n",
    "- Are plots b and c different? Why?\n",
    "- What are the approximate ranks of each plot?"
   ]
  },
  {
   "cell_type": "markdown",
   "metadata": {},
   "source": [
    "---\n",
    "1. plots a and b are different. The \n",
    "2. plots b and c are different. Variance will be more b/w plots from all classes than for plots for only 0 which will affect eigen values\n",
    "3. Ranks of the plots are the number of non-zero eigen values\n",
    "    3.1. For a and b, rank is around 70\n",
    "    3.2. For c and d, rank is around 90\n",
    "---"
   ]
  },
  {
   "cell_type": "markdown",
   "metadata": {
    "editable": false
   },
   "source": [
    "### 1.3.1 Question 2\n",
    "- How many possible images could there be?\n",
    "- What percentage is accessible to us as MNIST data?\n",
    "- If we had acces to all the data, how would the eigen value spectrum of the covariance matrix look?"
   ]
  },
  {
   "cell_type": "markdown",
   "metadata": {},
   "source": [
    "---\n",
    "\n",
    "1. There can be 256^784 images possible(assuming each value can range in 0-255). But if the images are binary, then there can be 2^784 images ≅ 1.017458257e236.\n",
    "\n",
    "2. We have 6000/2^784x100% ≅ 5.897048e-231% available to us\n",
    "\n",
    "3. For all the data, the plot would be similar to plot c\n",
    "---"
   ]
  },
  {
   "cell_type": "markdown",
   "metadata": {
    "editable": false
   },
   "source": [
    "## 1.3.2 Linear Transformation\n",
    "---\n",
    "### 1.3.2 Question 1\n",
    "How does the eigen spectrum change if the original data was multiplied by an orthonormal matrix? Answer analytically and then also validate experimentally."
   ]
  },
  {
   "cell_type": "markdown",
   "metadata": {},
   "source": [
    "---\n",
    "Multiplication with an orthonormal matrix is basically a rotation operation. So there would be no change in the eigen values, but the eigenvectors would be rotated in the same direction.\n",
    "\n",
    "---"
   ]
  },
  {
   "cell_type": "code",
   "execution_count": 7,
   "metadata": {},
   "outputs": [
    {
     "data": {
      "text/plain": [
       "<matplotlib.collections.PathCollection at 0x7f29b47a1810>"
      ]
     },
     "execution_count": 7,
     "metadata": {},
     "output_type": "execute_result"
    },
    {
     "data": {
      "image/png": "[encoded data removed]",
      "text/plain": [
       "<Figure size 432x288 with 1 Axes>"
      ]
     },
     "metadata": {
      "needs_background": "light"
     },
     "output_type": "display_data"
    }
   ],
   "source": [
    "# Experimental validation here.\n",
    "# Multiply your data (train_data) with an orthonormal matrix and plot the\n",
    "# eigen value specturm of the new covariance matrix.\n",
    "\n",
    "# code goes here\n",
    "H = np.random.rand(784,784)\n",
    "Q, R = np.linalg.qr(H)\n",
    "cov_train = Q.dot(train_trans)\n",
    "values, vectors = np.linalg.eig(np.cov(cov_train))\n",
    "norm = np.linalg.norm(values)\n",
    "values = values/norm\n",
    "values.sort()\n",
    "plt.scatter([i for i in range(100)],values[684:784])"
   ]
  },
  {
   "cell_type": "markdown",
   "metadata": {
    "editable": false
   },
   "source": [
    "### 1.3.2 Question 2\n",
    "If  samples  were  multiplied  by  784 × 784  matrix  of rank 1 or 2, (rank deficient matrices), how will the eigen spectrum look like?"
   ]
  },
  {
   "cell_type": "markdown",
   "metadata": {},
   "source": [
    "---\n",
    "\n",
    "When rank(AB) = min (rank(A),rank(B)). So then the number of non-zero eigen values will be 1 or 2. So the spectrum will be flat with 1 or 2 peaks.\n",
    "\n",
    "---"
   ]
  },
  {
   "cell_type": "markdown",
   "metadata": {
    "editable": false
   },
   "source": [
    "### 1.3.2 Question 3\n",
    "Project the original data into the first and second eigenvectors and plot in 2D"
   ]
  },
  {
   "cell_type": "code",
   "execution_count": 8,
   "metadata": {},
   "outputs": [
    {
     "data": {
      "text/plain": [
       "<matplotlib.collections.PathCollection at 0x7f29b4707e10>"
      ]
     },
     "execution_count": 8,
     "metadata": {},
     "output_type": "execute_result"
    },
    {
     "data": {
      "image/png": "[encoded data removed]",
      "text/plain": [
       "<Figure size 432x288 with 1 Axes>"
      ]
     },
     "metadata": {
      "needs_background": "light"
     },
     "output_type": "display_data"
    }
   ],
   "source": [
    "# Plotting code here\n",
    "values,vectors = np.linalg.eig(np.cov(np.transpose(train_data)))\n",
    "indices = values.argsort()[::-1]\n",
    "indices = indices.real\n",
    "values = values[indices]\n",
    "vectors = vectors[:,indices]\n",
    "ax1 = np.dot(train_data,vectors[:,0])\n",
    "ax2 = np.dot(train_data,vectors[:,1])\n",
    "\n",
    "plt.scatter(ax1,ax2)"
   ]
  },
  {
   "cell_type": "markdown",
   "metadata": {
    "editable": false
   },
   "source": [
    "## 1.3.3 Probabilistic View\n",
    "---\n",
    "In this section you will classify the test set by fitting multivariate gaussians on the train set, with different choices for decision boundaries. On running, your code should print the accuracy on your test set."
   ]
  },
  {
   "cell_type": "code",
   "execution_count": 38,
   "metadata": {},
   "outputs": [
    {
     "name": "stdout",
     "output_type": "stream",
     "text": [
      "94.7\n"
     ]
    }
   ],
   "source": [
    "# Print accuracy on the test set using MLE\n",
    "values,vectors = np.linalg.eig(np.cov(np.transpose(train_data)))\n",
    "indices = values.argsort()[::-1]\n",
    "values = values[indices]\n",
    "vectors = vectors[:,indices]\n",
    "dim_red = np.dot(train_data,vectors[:,0:50])\n",
    "\n",
    "test_red = np.dot(test_data,vectors[:,0:50])\n",
    "\n",
    "\n",
    "# ind = train_labels.argsort()\n",
    "# dim_labels = train_labels[ind]\n",
    "# dim_red = dim_red[:,ind]\n",
    "# means = []\n",
    "# covs = []\n",
    "# for i in range(10):\n",
    "#     covs.append(np.cov(dim_red[:,i*600:(i+1)*600]))\n",
    "# print(covs)\n",
    "\n",
    "\n",
    "temp_data=[[],[],[],[],[],[],[],[],[],[]]\n",
    "for i in range(len(dim_red)):\n",
    "    temp_data[int(train_labels[i])].append(dim_red[i])\n",
    "\n",
    "    \n",
    "means=[]\n",
    "covs=[]\n",
    "\n",
    "for i in range(10):\n",
    "    means.append(np.mean(temp_data[i],axis=0))\n",
    "    covs.append(np.cov(np.transpose(temp_data[i])))\n",
    "\n",
    "def multinorm(mean,sigma,x):\n",
    "    var1 = np.dot(np.transpose(x-mean),np.dot(np.linalg.pinv(sigma),x-mean))\n",
    "    numer = np.exp(np.dot(-0.5,var1))\n",
    "    denom = np.power((np.power(2*np.pi,50)*np.linalg.det(sigma)),0.5)\n",
    "    return numer/denom\n",
    "    \n",
    "accuracy = 0\n",
    "for i in range(len(test_red)):\n",
    "    norms = []\n",
    "    for j in range(10):\n",
    "        norms.append(multinorm(means[j],covs[j],test_red[i]))\n",
    "    norms = np.array(norms)\n",
    "    ranks = norms.argsort()\n",
    "    if ranks[9] == test_labels[i]:\n",
    "        accuracy += 1\n",
    "print(accuracy/10) # same reason as knn in 1.3.4"
   ]
  },
  {
   "cell_type": "code",
   "execution_count": 10,
   "metadata": {},
   "outputs": [],
   "source": [
    "# Print accuracy on the test set using MAP\n",
    "# (assume a reasonable prior and mention it in the comments)"
   ]
  },
  {
   "cell_type": "code",
   "execution_count": 39,
   "metadata": {},
   "outputs": [
    {
     "name": "stdout",
     "output_type": "stream",
     "text": [
      "90.4\n"
     ]
    }
   ],
   "source": [
    "# Print accuracy using Bayesian pairwise majority voting method\n",
    "def maha_dist(mean,sigma,x):\n",
    "    return np.dot(np.transpose(x-mean),np.dot(np.linalg.pinv(sigma),x-mean))\n",
    "\n",
    "accuracy=0\n",
    "for i in range(len(test_red)):\n",
    "    votes = [0,0,0,0,0,0,0,0,0,0]\n",
    "    for j in range(9):\n",
    "        for k in range(j+1,10):\n",
    "            new_cov = (covs[j]+covs[k])/2\n",
    "            if maha_dist(means[j],new_cov,test_red[i]) > maha_dist(means[k],new_cov,test_red[i]):\n",
    "                votes[j]+=1\n",
    "            else:\n",
    "                votes[k]+=1\n",
    "    votes=np.array(votes)\n",
    "    indx = votes.argsort()\n",
    "    if indx[0] == test_labels[i]:\n",
    "        accuracy += 1\n",
    "print(accuracy/10)"
   ]
  },
  {
   "cell_type": "code",
   "execution_count": 25,
   "metadata": {},
   "outputs": [
    {
     "name": "stdout",
     "output_type": "stream",
     "text": [
      "76.6\n"
     ]
    }
   ],
   "source": [
    "# Print accuracy using Simple Perpendicular Bisector majority voting method\n",
    "accuracy = 0\n",
    "for i in range(len(test_red)):\n",
    "    distances = []\n",
    "    for j in range(10):\n",
    "        distances.append(np.linalg.norm(means[j]-test_red[i]))\n",
    "    distances=np.array(distances)\n",
    "    indx = distances.argsort()\n",
    "    if indx[0] == test_labels[i]:\n",
    "        accuracy += 1\n",
    "print(accuracy/10)"
   ]
  },
  {
   "cell_type": "markdown",
   "metadata": {
    "editable": false
   },
   "source": [
    "### 1.3.3 Question 4\n",
    "Compare performances and salient observations"
   ]
  },
  {
   "cell_type": "markdown",
   "metadata": {},
   "source": [
    "---\n",
    "Your analysis here (double click to edit)\n",
    "\n",
    "---\n",
    "MLE has the best accuracy (94.7%) while Perpendicular bisector has the least (76.6%). Bayesian pairwise distance voting has(90.4%) accuracy. "
   ]
  },
  {
   "cell_type": "markdown",
   "metadata": {
    "editable": false
   },
   "source": [
    "## 1.3.4 Nearest Neighbour based Tasks and Design\n",
    "---\n",
    "### 1.3.4 Question 1 : NN Classification with various K\n",
    "Implement a KNN classifier and print accuracies on the test set with K=1,3,7"
   ]
  },
  {
   "cell_type": "code",
   "execution_count": 41,
   "metadata": {},
   "outputs": [
    {
     "name": "stdout",
     "output_type": "stream",
     "text": [
      "91.5\n"
     ]
    }
   ],
   "source": [
    "# Your code here\n",
    "# Print accuracies with K = 1, 3, 7\n",
    "\n",
    "def knn(k=1):\n",
    "    accuracy = 0\n",
    "    for i in range(len(test_data)):\n",
    "        neighbours=[]\n",
    "        for j in range(len(train_data)):\n",
    "            neighbours.append((np.linalg.norm(test_data[i]-train_data[j]),train_labels[j]))\n",
    "        neighbours.sort(key=lambda x:x[0])\n",
    "        bucket = [0,0,0,0,0,0,0,0,0,0]\n",
    "        for j in range(k):\n",
    "            bucket[int(neighbours[j][1])]+=1\n",
    "        max_index=-1\n",
    "        max_value=0\n",
    "        for j in range(10):\n",
    "            if(bucket[j]>max_value):\n",
    "                max_value = bucket[j]\n",
    "                max_index = j\n",
    "        if(max_index==test_labels[i]):\n",
    "            accuracy+=1\n",
    "    print(accuracy/10) # becuase 100 test cases and accuracy/1000*100%\n",
    "knn()\n",
    "knn(3)\n",
    "knn(7)"
   ]
  },
  {
   "cell_type": "markdown",
   "metadata": {
    "editable": false
   },
   "source": [
    "### 1.3.4 Question 1 continued\n",
    "- Why / why not are the accuracies the same?\n",
    "- How do we identify the best K? Suggest a computational procedure with a logical explanation."
   ]
  },
  {
   "cell_type": "markdown",
   "metadata": {},
   "source": [
    "---\n",
    "- Accuracies are not the same as for larger k, we take into consideration more distant points from the actual data point. So that will affect the correctness of the prediction. If k==n, then our classifier will be totally random as all points in the dataset is considered a neighbour.\n",
    "- To find the best accuracy, we can do a simple hill climb algorithm with decreasing step size\n",
    "---"
   ]
  },
  {
   "cell_type": "markdown",
   "metadata": {
    "editable": false
   },
   "source": [
    "### 1.3.4 Question 2 :  Reverse NN based outlier detection\n",
    "A sample can be thought of as an outlier is it is NOT in the nearest neighbour set of anybody else. Expand this idea into an algorithm."
   ]
  },
  {
   "cell_type": "code",
   "execution_count": 14,
   "metadata": {
    "editable": false
   },
   "outputs": [
    {
     "name": "stdout",
     "output_type": "stream",
     "text": [
      "(20, 784)\n"
     ]
    }
   ],
   "source": [
    "# This cell reads mixed data containing both MNIST digits and English characters.\n",
    "# The labels for this mixed data are random and are hence ignored.\n",
    "mixed_data, _ = read_data(\"outliers.csv\")\n",
    "print(mixed_data.shape)"
   ]
  },
  {
   "cell_type": "code",
   "execution_count": 15,
   "metadata": {},
   "outputs": [
    {
     "name": "stdout",
     "output_type": "stream",
     "text": [
      "0\n",
      "4\n",
      "6\n",
      "7\n",
      "9\n",
      "18\n"
     ]
    }
   ],
   "source": [
    "all_data = np.vstack((mixed_data,train_data))\n",
    "# for k=7\n",
    "nn = []\n",
    "for i in range(len(train_data)):\n",
    "    neighbours = np.linalg.norm(all_data-train_data[i],axis=1)\n",
    "    ind = neighbours.argsort()\n",
    "    for k in range(7):\n",
    "        nn.append(ind[k])\n",
    "for i in range(len(mixed_data)):\n",
    "    if i not in nn:\n",
    "        print(i)"
   ]
  },
  {
   "cell_type": "markdown",
   "metadata": {
    "editable": false
   },
   "source": [
    "### 1.3.4 Question 3 : NN for regression\n",
    "Assume that each classID in the train set corresponds to a neatness score as:\n",
    "$$ neatness = \\frac{classID}{10} $$\n",
    "\n",
    "---\n",
    "Assume we had to predict the neatness score for each test sample using NN based techiniques on the train set. Describe the algorithm."
   ]
  },
  {
   "cell_type": "markdown",
   "metadata": {},
   "source": [
    "---\n",
    "\n",
    "for each in test_data, find the k nearest neighbours in the train_data. We normalize the distances of each and then apply the formula \n",
    "    $$ neatness = \\frac{\\sum w^i.x^i}{\\sum w^i} $$\n",
    "where $$ w^i = (1-norm~dist) $$\n",
    "\n",
    "---    "
   ]
  },
  {
   "cell_type": "markdown",
   "metadata": {
    "editable": false
   },
   "source": [
    "### 1.3.4 Question 3 continued\n",
    "Validate your algorithm on the test set. This code should print mean absolute error on the test set, using the train set for NN based regression."
   ]
  },
  {
   "cell_type": "code",
   "execution_count": 45,
   "metadata": {},
   "outputs": [
    {
     "name": "stdout",
     "output_type": "stream",
     "text": [
      "0.043680038708632796\n"
     ]
    }
   ],
   "source": [
    "# Your code here\n",
    "# k=7\n",
    "error = 0\n",
    "for i in range(len(test_data)):\n",
    "    neighbours = np.linalg.norm(train_data-test_data[i],axis=1)\n",
    "    ind = neighbours.argsort()\n",
    "    sum=0\n",
    "    for j in range(7):\n",
    "        sum += neighbours[ind[j]]\n",
    "    neighbours = neighbours/sum\n",
    "    numer=denom=0\n",
    "    for k in range(7):\n",
    "        numer+=(1-neighbours[ind[k]])*(train_labels[ind[k]]/10)\n",
    "        denom+=(1-neighbours[ind[k]])\n",
    "    error += np.absolute(test_labels[i]/10-(numer/denom))\n",
    "print(error/1000)"
   ]
  },
  {
   "cell_type": "markdown",
   "metadata": {
    "editable": false
   },
   "source": [
    "---\n",
    "# FOLLOW THE SUBMISSION INSTRUCTIONS\n",
    "---"
   ]
  },
  {
   "cell_type": "code",
   "execution_count": null,
   "metadata": {},
   "outputs": [],
   "source": []
  }
 ],
 "metadata": {
  "kernelspec": {
   "display_name": "Python 3",
   "language": "python",
   "name": "python3"
  },
  "language_info": {
   "codemirror_mode": {
    "name": "ipython",
    "version": 3
   },
   "file_extension": ".py",
   "mimetype": "text/x-python",
   "name": "python",
   "nbconvert_exporter": "python",
   "pygments_lexer": "ipython3",
   "version": "3.7.4"
  }
 },
 "nbformat": 4,
 "nbformat_minor": 2
}
