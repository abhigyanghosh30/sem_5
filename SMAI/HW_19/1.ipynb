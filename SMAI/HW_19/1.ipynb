{
 "cells": [
  {
   "cell_type": "code",
   "execution_count": 57,
   "metadata": {},
   "outputs": [
    {
     "name": "stdout",
     "output_type": "stream",
     "text": [
      "(1200, 784) (200, 784)\n",
      "(1200,) (200,)\n"
     ]
    }
   ],
   "source": [
    "import matplotlib.pyplot as plt\n",
    "from sklearn.neural_network import MLPClassifier\n",
    "import numpy as np\n",
    "\n",
    "def read_data(filename):\n",
    "    with open(filename, 'r') as f:\n",
    "        lines = f.readlines()\n",
    "    \n",
    "    num_points = len(lines)\n",
    "    dim_points = 28 * 28\n",
    "    data = []\n",
    "    labels = []\n",
    "    \n",
    "    for ind, line in enumerate(lines):\n",
    "        num = line.split(',')\n",
    "        if(int(num[0])<2):\n",
    "            labels.append(int(num[0])) \n",
    "            data.append([ int(x) for x in num[1:] ])\n",
    "        \n",
    "    return (np.array(data), np.array(labels))\n",
    "\n",
    "train_data, train_labels = read_data(\"sample_train.csv\")\n",
    "test_data, test_labels = read_data(\"sample_test.csv\")\n",
    "\n",
    "print(train_data.shape, test_data.shape)\n",
    "print(train_labels.shape, test_labels.shape)"
   ]
  },
  {
   "cell_type": "code",
   "execution_count": 75,
   "metadata": {},
   "outputs": [],
   "source": [
    "# new class\n",
    "class MLPClassifierOverride(MLPClassifier):\n",
    "\n",
    "    def _init_coef(self, fan_in, fan_out):\n",
    "        if self.activation == 'logistic':\n",
    "            init_bound = np.sqrt(2. / (fan_in + fan_out))\n",
    "        elif self.activation in ('identity', 'tanh', 'relu'):\n",
    "            init_bound = np.sqrt(6. / (fan_in + fan_out))\n",
    "        else:\n",
    "            raise ValueError(\"Unknown activation function %s\" %\n",
    "                             self.activation)\n",
    "        coef_init = np.random.random((fan_in, fan_out)) # change it to np.zeros or np.ones for 0 and 1 respectively\n",
    "\n",
    "        intercept_init = np.random.random(fan_out)\n",
    "\n",
    "        return coef_init, intercept_init"
   ]
  },
  {
   "cell_type": "code",
   "execution_count": 76,
   "metadata": {},
   "outputs": [],
   "source": [
    "clf = MLPClassifierOverride(alpha = 1e-5,hidden_layer_sizes=(784,784),max_iter=100,verbose=True)"
   ]
  },
  {
   "cell_type": "code",
   "execution_count": 77,
   "metadata": {},
   "outputs": [
    {
     "name": "stdout",
     "output_type": "stream",
     "text": [
      "Iteration 1, loss = inf\n",
      "Iteration 2, loss = inf\n",
      "Iteration 3, loss = inf\n",
      "Iteration 4, loss = inf\n",
      "Iteration 5, loss = inf\n",
      "Iteration 6, loss = inf\n",
      "Iteration 7, loss = inf\n",
      "Iteration 8, loss = inf\n",
      "Iteration 9, loss = inf\n",
      "Iteration 10, loss = inf\n",
      "Iteration 11, loss = inf\n",
      "Iteration 12, loss = inf\n",
      "Iteration 13, loss = inf\n",
      "Iteration 14, loss = inf\n",
      "Iteration 15, loss = inf\n",
      "Iteration 16, loss = inf\n",
      "Iteration 17, loss = inf\n",
      "Iteration 18, loss = inf\n",
      "Iteration 19, loss = inf\n",
      "Iteration 20, loss = inf\n",
      "Iteration 21, loss = inf\n",
      "Iteration 22, loss = inf\n",
      "Iteration 23, loss = inf\n",
      "Iteration 24, loss = inf\n",
      "Iteration 25, loss = inf\n",
      "Iteration 26, loss = inf\n",
      "Iteration 27, loss = inf\n",
      "Iteration 28, loss = inf\n",
      "Iteration 29, loss = inf\n",
      "Iteration 30, loss = inf\n",
      "Iteration 31, loss = inf\n",
      "Iteration 32, loss = inf\n",
      "Iteration 33, loss = inf\n",
      "Iteration 34, loss = inf\n",
      "Iteration 35, loss = inf\n",
      "Iteration 36, loss = inf\n",
      "Iteration 37, loss = inf\n",
      "Iteration 38, loss = inf\n",
      "Iteration 39, loss = inf\n",
      "Iteration 40, loss = inf\n",
      "Iteration 41, loss = inf\n",
      "Iteration 42, loss = inf\n",
      "Iteration 43, loss = inf\n",
      "Iteration 44, loss = inf\n",
      "Iteration 45, loss = inf\n",
      "Iteration 46, loss = inf\n",
      "Iteration 47, loss = inf\n",
      "Iteration 48, loss = inf\n",
      "Iteration 49, loss = inf\n",
      "Iteration 50, loss = inf\n",
      "Iteration 51, loss = inf\n",
      "Iteration 52, loss = inf\n",
      "Iteration 53, loss = inf\n",
      "Iteration 54, loss = inf\n",
      "Iteration 55, loss = inf\n",
      "Iteration 56, loss = inf\n",
      "Iteration 57, loss = inf\n",
      "Iteration 58, loss = inf\n",
      "Iteration 59, loss = inf\n",
      "Iteration 60, loss = inf\n",
      "Iteration 61, loss = inf\n",
      "Iteration 62, loss = inf\n",
      "Iteration 63, loss = inf\n",
      "Iteration 64, loss = inf\n",
      "Iteration 65, loss = inf\n",
      "Iteration 66, loss = inf\n",
      "Iteration 67, loss = inf\n",
      "Iteration 68, loss = inf\n",
      "Iteration 69, loss = inf\n",
      "Iteration 70, loss = inf\n",
      "Iteration 71, loss = inf\n",
      "Iteration 72, loss = inf\n",
      "Iteration 73, loss = inf\n",
      "Iteration 74, loss = inf\n",
      "Iteration 75, loss = inf\n",
      "Iteration 76, loss = inf\n",
      "Iteration 77, loss = inf\n",
      "Iteration 78, loss = inf\n",
      "Iteration 79, loss = inf\n",
      "Iteration 80, loss = inf\n",
      "Iteration 81, loss = inf\n",
      "Iteration 82, loss = inf\n",
      "Iteration 83, loss = inf\n",
      "Iteration 84, loss = inf\n",
      "Iteration 85, loss = inf\n",
      "Iteration 86, loss = inf\n",
      "Iteration 87, loss = inf\n",
      "Iteration 88, loss = inf\n",
      "Iteration 89, loss = inf\n",
      "Iteration 90, loss = inf\n",
      "Iteration 91, loss = inf\n",
      "Iteration 92, loss = inf\n",
      "Iteration 93, loss = inf\n",
      "Iteration 94, loss = inf\n",
      "Iteration 95, loss = inf\n",
      "Iteration 96, loss = inf\n",
      "Iteration 97, loss = inf\n",
      "Iteration 98, loss = inf\n",
      "Iteration 99, loss = inf\n",
      "Iteration 100, loss = inf\n"
     ]
    },
    {
     "name": "stderr",
     "output_type": "stream",
     "text": [
      "/home/masterg/anaconda3/lib/python3.7/site-packages/sklearn/neural_network/multilayer_perceptron.py:566: ConvergenceWarning: Stochastic Optimizer: Maximum iterations (100) reached and the optimization hasn't converged yet.\n",
      "  % self.max_iter, ConvergenceWarning)\n"
     ]
    },
    {
     "data": {
      "text/plain": [
       "MLPClassifierOverride(activation='relu', alpha=1e-05, batch_size='auto',\n",
       "                      beta_1=0.9, beta_2=0.999, early_stopping=False,\n",
       "                      epsilon=1e-08, hidden_layer_sizes=(784, 784),\n",
       "                      learning_rate='constant', learning_rate_init=0.001,\n",
       "                      max_iter=100, momentum=0.9, n_iter_no_change=10,\n",
       "                      nesterovs_momentum=True, power_t=0.5, random_state=None,\n",
       "                      shuffle=True, solver='adam', tol=0.0001,\n",
       "                      validation_fraction=0.1, verbose=True, warm_start=False)"
      ]
     },
     "execution_count": 77,
     "metadata": {},
     "output_type": "execute_result"
    }
   ],
   "source": [
    "clf.fit(train_data,train_labels)"
   ]
  },
  {
   "cell_type": "code",
   "execution_count": 81,
   "metadata": {},
   "outputs": [
    {
     "name": "stdout",
     "output_type": "stream",
     "text": [
      "100.0\n"
     ]
    }
   ],
   "source": [
    "predicted = clf.predict(test_data)\n",
    "accuracy = 0\n",
    "for i in range(len(test_data)):\n",
    "    if(predicted[i]==test_labels[i]):\n",
    "        accuracy+=1\n",
    "print(accuracy/2)"
   ]
  },
  {
   "cell_type": "code",
   "execution_count": null,
   "metadata": {},
   "outputs": [],
   "source": []
  },
  {
   "cell_type": "code",
   "execution_count": null,
   "metadata": {},
   "outputs": [],
   "source": []
  }
 ],
 "metadata": {
  "kernelspec": {
   "display_name": "Python 3",
   "language": "python",
   "name": "python3"
  },
  "language_info": {
   "codemirror_mode": {
    "name": "ipython",
    "version": 3
   },
   "file_extension": ".py",
   "mimetype": "text/x-python",
   "name": "python",
   "nbconvert_exporter": "python",
   "pygments_lexer": "ipython3",
   "version": "3.7.3"
  }
 },
 "nbformat": 4,
 "nbformat_minor": 2
}
