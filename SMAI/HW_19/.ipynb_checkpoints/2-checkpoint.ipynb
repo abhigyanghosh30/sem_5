{
 "cells": [
  {
   "cell_type": "code",
   "execution_count": 13,
   "metadata": {},
   "outputs": [],
   "source": [
    "from sklearn.neural_network import MLPClassifier\n",
    "import numpy as np\n",
    "import scipy"
   ]
  },
  {
   "cell_type": "code",
   "execution_count": 14,
   "metadata": {},
   "outputs": [
    {
     "name": "stdout",
     "output_type": "stream",
     "text": [
      "[[0.84553468]]\n"
     ]
    }
   ],
   "source": [
    "x = np.random.random((1,2))\n",
    "W1 = np.random.random((2,3))\n",
    "W2 = np.random.random((3,5))\n",
    "W3 = np.random.random((5,3))\n",
    "W4 = np.random.random((3,1))\n",
    "\n",
    "def gd(iter=100):\n",
    "    for i in range(iter):\n",
    "        H1 = scipy.special.expit(np.matmul(x,W1))\n",
    "        H2 = scipy.special.expit(np.matmul(H1,W2))\n",
    "        H3 = scipy.special.expit(np.matmul(H2,W3))\n",
    "        y = scipy.special.expit(np.matmul(H3,W4))\n",
    "        print(y)"
   ]
  },
  {
   "cell_type": "code",
   "execution_count": null,
   "metadata": {},
   "outputs": [],
   "source": []
  }
 ],
 "metadata": {
  "kernelspec": {
   "display_name": "Python 3",
   "language": "python",
   "name": "python3"
  },
  "language_info": {
   "codemirror_mode": {
    "name": "ipython",
    "version": 3
   },
   "file_extension": ".py",
   "mimetype": "text/x-python",
   "name": "python",
   "nbconvert_exporter": "python",
   "pygments_lexer": "ipython3",
   "version": "3.7.3"
  }
 },
 "nbformat": 4,
 "nbformat_minor": 2
}
