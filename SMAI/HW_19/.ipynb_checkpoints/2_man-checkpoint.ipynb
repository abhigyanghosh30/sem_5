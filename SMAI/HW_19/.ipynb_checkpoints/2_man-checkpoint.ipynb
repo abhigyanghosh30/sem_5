{
 "cells": [
  {
   "cell_type": "code",
   "execution_count": 118,
   "metadata": {},
   "outputs": [],
   "source": [
    "import numpy as np\n",
    "import matplotlib.pyplot as plt"
   ]
  },
  {
   "cell_type": "code",
   "execution_count": 119,
   "metadata": {},
   "outputs": [],
   "source": [
    "X1 = np.random.multivariate_normal([0, 0], [[1, 0], [0,1]], 500)\n",
    "X2 = np.random.multivariate_normal([1, 1], [[2, 1], [1, 2]], 500)"
   ]
  },
  {
   "cell_type": "code",
   "execution_count": 120,
   "metadata": {},
   "outputs": [],
   "source": [
    "X = np.vstack((X1, X2))"
   ]
  },
  {
   "cell_type": "code",
   "execution_count": 150,
   "metadata": {},
   "outputs": [],
   "source": [
    "y = [1 for i in range(500)]\n",
    "for i in range(500, 1000):\n",
    "    y.append(0)\n",
    "y = np.array(y)"
   ]
  },
  {
   "cell_type": "code",
   "execution_count": 151,
   "metadata": {},
   "outputs": [],
   "source": [
    "w1 = np.random.random((2, 3))\n",
    "w2 = np.random.random((3, 5))\n",
    "w3 = np.random.random((5, 3))\n",
    "global w4"
   ]
  },
  {
   "cell_type": "code",
   "execution_count": 152,
   "metadata": {},
   "outputs": [],
   "source": [
    "w4 = np.random.random((3, 1))"
   ]
  },
  {
   "cell_type": "code",
   "execution_count": 153,
   "metadata": {},
   "outputs": [],
   "source": [
    "def MSE(y_true, y_predicted):\n",
    "    l = ((y_true - y_predicted) ** 2)\n",
    "#     print(l)\n",
    "    return np.sum(l) / l.shape[1]"
   ]
  },
  {
   "cell_type": "code",
   "execution_count": 154,
   "metadata": {},
   "outputs": [],
   "source": [
    "def sigmoid(x):\n",
    "    return 1 / (1 + np.exp(-x))"
   ]
  },
  {
   "cell_type": "code",
   "execution_count": 329,
   "metadata": {},
   "outputs": [],
   "source": [
    "def forward(X):\n",
    "    H1 = np.dot(w1.T, X.T)\n",
    "    H1_out = sigmoid(H1)\n",
    "    \n",
    "    H2 = np.dot(w2.T, H1_out)\n",
    "    H2_out = sigmoid(H2)\n",
    "    \n",
    "    H3 = np.dot(w3.T, H2_out)\n",
    "    H3_out = sigmoid(H3)\n",
    "    \n",
    "    H4 = np.dot(w4.T, H3_out)\n",
    "    y = sigmoid(H4)\n",
    "    return y"
   ]
  },
  {
   "cell_type": "code",
   "execution_count": 331,
   "metadata": {},
   "outputs": [],
   "source": [
    "def MSE_backprop(X, w1, w2, w3, w4, learning_rate=0.0001, ):\n",
    "    H1 = np.dot(w1.T, X.T)\n",
    "    H1_out = sigmoid(H1)\n",
    "    \n",
    "    H2 = np.dot(w2.T, H1_out)\n",
    "    H2_out = sigmoid(H2)\n",
    "    \n",
    "    H3 = np.dot(w3.T, H2_out)\n",
    "    H3_out = sigmoid(H3)\n",
    "    \n",
    "    H4 = np.dot(w4.T, H3_out)\n",
    "    y_out = sigmoid(H4)\n",
    "    \n",
    "    E_wrt_w4 = np.zeros((3, ))\n",
    "    for i in range(1000):\n",
    "        delta3i = y_out[:, i][0] - y[i]\n",
    "        part2 = sigmoid(y_out[:, i][0])\n",
    "        part2 = part2 * (1 - part2)\n",
    "        part3 = H3_out[:, i]\n",
    "        E_wrt_w4 += delta3i * part2 * part3\n",
    "    E_wrt_w4 = np.expand_dims(E_wrt_w4, axis=1)\n",
    "    \n",
    "    E_wrt_w3 = np.zeros((5, 3))\n",
    "    \n",
    "    for i in range(1000):\n",
    "        part1 = y_out[:, i][0] - y[i]\n",
    "        part2 = sigmoid(y_out[:, i][0])\n",
    "        part2 = part2 * (1 - part2)\n",
    "        \n",
    "        delta3i = w4 * part1 * part2\n",
    "        delta3i = np.squeeze(delta3i)\n",
    "        part3 = sigmoid(H3[:, i]) * (1 - sigmoid(H3[:, i]))\n",
    "        mid = np.multiply(delta3i, part3)\n",
    "        mid = np.expand_dims(mid, axis=1)\n",
    "        val = np.dot(mid, np.expand_dims(H2_out[:, i], axis=1).T)\n",
    "        E_wrt_w3 += val.T\n",
    "\n",
    "    E_wrt_w2 = np.zeros((3, 5))\n",
    "    for i in range(1000):\n",
    "        part1 = y_out[:, i][0] - y[i]\n",
    "        part2 = sigmoid(y_out[:, i][0])\n",
    "        part2 = part2 * (1 - part2)\n",
    "        \n",
    "        delta3i = part1 * part2\n",
    "        c = sigmoid(H3[:, i]) * (1 - sigmoid(H3[:, i]))\n",
    "        c = np.expand_dims(c, axis=1)\n",
    "        delta2i = np.multiply(w4 * delta3i, c)\n",
    "        \n",
    "        part3 = np.dot(w3, delta2i)\n",
    "        d = sigmoid(H2[:, i]) * (1 - sigmoid(H2[:, i]))\n",
    "        d = np.expand_dims(d, axis=1)\n",
    "        e = np.multiply(part3, d)\n",
    "        \n",
    "        val = np.dot(e, np.expand_dims(H1_out[:, i], axis=1).T)\n",
    "        E_wrt_w2 += val.T\n",
    "        \n",
    "    E_wrt_w1 = np.zeros((2, 3))\n",
    "    for i in range(1000):\n",
    "        part1 = y_out[:, i][0] - y[i]\n",
    "        part2 = sigmoid(y_out[:, i][0])\n",
    "        part2 = part2 * (1 - part2)\n",
    "        \n",
    "        delta3i = part1 * part2\n",
    "        c = sigmoid(H3[:, i]) * (1 - sigmoid(H3[:, i]))\n",
    "        c = np.expand_dims(c, axis=1)\n",
    "        delta2i = np.multiply(w4 * delta3i, c)\n",
    "        \n",
    "        p1 = np.dot(w3, delta2i)\n",
    "        d = sigmoid(H2[:, i]) * (1 - sigmoid(H2[:, i]))\n",
    "        d = np.expand_dims(d, axis=1)\n",
    "        delta1i = np.multiply(p1, d)\n",
    "        \n",
    "        p2 = np.dot(w2, delta1i)\n",
    "        e = sigmoid(H1[:, i]) * (1 - sigmoid(H1[:, i]))\n",
    "        e = np.expand_dims(e, axis=1)\n",
    "        \n",
    "        delta = np.multiply(p2, e)\n",
    "        val = np.dot(delta, np.expand_dims(X[i], axis=1).T)\n",
    "        E_wrt_w1 += val.T\n",
    "    w4 = w4 - learning_rate * E_wrt_w4\n",
    "    w3 = w3 - learning_rate * E_wrt_w3\n",
    "    w2 = w2 - learning_rate * E_wrt_w2\n",
    "    w1 = w1 - learning_rate * E_wrt_w1\n",
    "    \n",
    "    return w1, w2, w3, w4"
   ]
  },
  {
   "cell_type": "code",
   "execution_count": 348,
   "metadata": {},
   "outputs": [],
   "source": [
    "loss = []\n",
    "for i in range(500):\n",
    "    w1, w2, w3, w4 = MSE_backprop(X, w1, w2, w3, w4)\n",
    "    y_pred = forward(X)\n",
    "    loss.append(MSE(y, y_pred))"
   ]
  },
  {
   "cell_type": "code",
   "execution_count": 350,
   "metadata": {},
   "outputs": [
    {
     "data": {
      "text/plain": [
       "[<matplotlib.lines.Line2D at 0x7f2ec0058c10>]"
      ]
     },
     "execution_count": 350,
     "metadata": {},
     "output_type": "execute_result"
    },
    {
     "data": {
      "image/png": "[encoded data removed]",
      "text/plain": [
       "<Figure size 432x288 with 1 Axes>"
      ]
     },
     "metadata": {
      "needs_background": "light"
     },
     "output_type": "display_data"
    }
   ],
   "source": [
    "\n",
    "plt.plot(range(500), loss)"
   ]
  },
  {
   "cell_type": "code",
   "execution_count": null,
   "metadata": {},
   "outputs": [],
   "source": []
  }
 ],
 "metadata": {
  "kernelspec": {
   "display_name": "Python 3",
   "language": "python",
   "name": "python3"
  },
  "language_info": {
   "codemirror_mode": {
    "name": "ipython",
    "version": 3
   },
   "file_extension": ".py",
   "mimetype": "text/x-python",
   "name": "python",
   "nbconvert_exporter": "python",
   "pygments_lexer": "ipython3",
   "version": "3.7.3"
  }
 },
 "nbformat": 4,
 "nbformat_minor": 2
}
