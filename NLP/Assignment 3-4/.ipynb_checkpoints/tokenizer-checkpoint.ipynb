{
 "cells": [
  {
   "cell_type": "code",
   "execution_count": null,
   "metadata": {},
   "outputs": [],
   "source": [
    "import re\n",
    "\n",
    "corpus3_sentences = []\n",
    "f = open('corpus3.txt','r')\n",
    "corpus3_sentences=f.readlines()\n",
    "f.close()\n",
    "\n",
    "corpus4_sentences = []\n",
    "f = open('corpus4.txt','r',encoding='utf-8')\n",
    "corpus4_sentences=f.readlines()\n",
    "f.close()"
   ]
  },
  {
   "cell_type": "code",
   "execution_count": null,
   "metadata": {},
   "outputs": [],
   "source": [
    "def word_tokenizer(sentence):\n",
    "    scanner = re.Scanner([\n",
    "        (b\"[\\x80-\\xff]+\", lambda scanner,token: (\"EMOJI\",token)),\n",
    "        (r\"[a-zA-Z0-9]+@([a-zA-Z0-9]+\\.*){2,3}\",lambda scanner,token: (\"EMAIL\",token)),\n",
    "        (r\"http[s]*://[A-Z0-9a-z./]*\",lambda scanner,token: (\"LINK\",token)),\n",
    "        (r\"#\\S+\",lambda scanner,token: (\"HASHTAG\",token)),\n",
    "        (r\"@\\S+\",lambda scanner,token: (\"MENTION\",token)),\n",
    "        (r'[A-Z][a-z]*\\.', lambda scanner, token: (\"NNP\",token)),\n",
    "        (r\"[0-9]+% | [0-9]+\\ %\", lambda scanner,token: (\"PERCENT\",token)),\n",
    "        (r\"[0-9.]+\", lambda scanner,token: (\"DECIMAL\",token)),\n",
    "        (r\"\\w+\", lambda scanner,token: (\"WORD\",token)),\n",
    "        (r\"$[0-9]+(.[0-9]+)*\",lambda scanner,token: (\"CURRENCY\",token)),\n",
    "        (r\"\\s+\",lambda scanner,token: None),\n",
    "        (r\"\\n\",lambda scanner,token: None),\n",
    "        (r\"\\\\n\",lambda scanner,token: None),\n",
    "        (r\"[0-9]+\", lambda scanner,token: (\"NUMBERS\",token)),\n",
    "        (r\"[\\\",.?!`'’\\-@&;\\(\\):\\/#$\\*\\|=]+\", lambda scanner,token: (\"PUNC\",token)),\n",
    "    ])\n",
    "    \n",
    "    results,remainder = scanner.scan(sentence)\n",
    "    \n",
    "    if(len(remainder)>0):\n",
    "        print(sentence)\n",
    "        print(results)\n",
    "        print(remainder)\n",
    "\n",
    "    macro_tokens = remainder.split(b' ')\n",
    "    for i in range(len(macro_tokens)):\n",
    "        results.append(macro_tokens[i])\n",
    "    return results"
   ]
  },
  {
   "cell_type": "code",
   "execution_count": null,
   "metadata": {},
   "outputs": [],
   "source": [
    "if __name__ == \"__main__\":\n",
    "    for line in corpus3_sentences:\n",
    "        # print(line)\n",
    "        word_tokenizer(line.encode('utf-8'))\n",
    "    \n",
    "    # for line in corpus4_sentences:\n",
    "    #     word_tokenizer(line.encode('utf-8'))\n",
    "    # word_tokenizer(b'Rev. St. Francis of Assisi')"
   ]
  },
  {
   "cell_type": "code",
   "execution_count": 77,
   "metadata": {},
   "outputs": [],
   "source": []
  },
  {
   "cell_type": "code",
   "execution_count": 129,
   "metadata": {},
   "outputs": [
    {
     "data": {
      "image/png": "[encoded data removed]",
      "text/plain": [
       "<Figure size 432x288 with 1 Axes>"
      ]
     },
     "metadata": {
      "needs_background": "light"
     },
     "output_type": "display_data"
    }
   ],
   "source": [
    "from matplotlib import pyplot as plt \n",
    "import operator\n",
    "\n",
    "\n",
    "if __name__ == \"__main__\":\n",
    "    unigrams = {}\n",
    "    for line in corpus3_sentences:\n",
    "        tokens = word_tokenizer(line.encode('utf-8'))\n",
    "        for i in range(len(tokens)):\n",
    "            if(tokens[i] in unigrams):\n",
    "                unigrams[tokens[i]] += 1\n",
    "            else:\n",
    "                unigrams[tokens[i]] = 1\n",
    "    freq = []\n",
    "    dsort = sorted(unigrams.items(), key=operator.itemgetter(1),reverse=True)\n",
    "    for i in range(len(dsort)):\n",
    "        freq.append(dsort[i][1])\n",
    "    plt.plot(freq)"
   ]
  },
  {
   "cell_type": "code",
   "execution_count": 128,
   "metadata": {},
   "outputs": [
    {
     "data": {
      "image/png": "[encoded data removed]",
      "text/plain": [
       "<Figure size 432x288 with 1 Axes>"
      ]
     },
     "metadata": {
      "needs_background": "light"
     },
     "output_type": "display_data"
    }
   ],
   "source": [
    "for line in corpus4_sentences:\n",
    "        word_tokenizer(line.encode('utf-8'))\n",
    "        for i in range(len(tokens)):\n",
    "            if(tokens[i] in unigrams):\n",
    "                unigrams[tokens[i]] += 1\n",
    "            else:\n",
    "                unigrams[tokens[i]] = 1\n",
    "\n",
    "        freq = []\n",
    "        dsort = sorted(unigrams.items(), key=operator.itemgetter(1),reverse=True)\n",
    "        for i in range(len(dsort)):\n",
    "            freq.append(dsort[i][1])\n",
    "        plt.plot(freq)"
   ]
  },
  {
   "cell_type": "code",
   "execution_count": 117,
   "metadata": {},
   "outputs": [],
   "source": [
    "## pakka waala final\n",
    "def word_tokenizer(sentence):\n",
    "    scanner = re.Scanner([\n",
    "        (b\"[\\x80-\\xff]+\", lambda scanner,token: token),\n",
    "        (r\"[a-zA-Z0-9]+@([a-zA-Z0-9]+\\.*){2,3}\",lambda scanner,token: token),\n",
    "        (r\"http[s]*://[A-Z0-9a-z./]*\",lambda scanner,token: token),\n",
    "        (r'[A-Z]+[a-z]{0,3}.', lambda scanner,token:token),\n",
    "        (r\"#\\w+(.[\\w])*\",lambda scanner,token: token),\n",
    "        (r\"@\\w+(.[\\w])*\",lambda scanner,token: token),\n",
    "        (r\"[0-9]+% | [0-9]+\\ %\", lambda scanner,token: token),\n",
    "        (r\"[0-9.]+\", lambda scanner,token: token),\n",
    "        (r\"\\w+\", lambda scanner,token: token),\n",
    "        (r\"$[0-9]+(.[0-9]+)*\",lambda scanner,token: token),\n",
    "        (r\"\\s+\",lambda scanner,token: None),\n",
    "        (r\"\\n\",lambda scanner,token: None),\n",
    "        (r\"\\\\n\",lambda scanner,token: None),\n",
    "        (r\"[\\\",.?!`'’\\-@&;\\(\\):\\/#$\\*\\|=]+\", lambda scanner,token: token),\n",
    "        (r\"[0-9]+\", lambda scanner,token: token),\n",
    "    ])\n",
    "    \n",
    "    results,remainder = scanner.scan(sentence)\n",
    "    \n",
    "    if(len(remainder)>0):\n",
    "        print(sentence)\n",
    "        print(results)\n",
    "        print(remainder)\n",
    "        macro_tokens = remainder.split(b' ')\n",
    "        for i in range(len(macro_tokens)):\n",
    "            results.append(macro_tokens[i])\n",
    "    return results"
   ]
  },
  {
   "cell_type": "code",
   "execution_count": 116,
   "metadata": {},
   "outputs": [
    {
     "name": "stdout",
     "output_type": "stream",
     "text": [
      "[b'@Zubair hungr', b'y@boi', b'emailed', b'....', b'food@abid.iiit.in', b'that', b'@explained.stuff spoke t', b'o', b'@check', b'.', b'@choco_%boi i', b's', b'hot', b'.', b'@thiswillbreak', b'.', b'We ', b'will', b'be', b'getting', b'234', b',', b'244', b'$', b'from', b'Sean ', b'Bigge', b'rstaff', b'.', b'Sean ', b'B.', b'for', b'short', b'.', b'v', b'#ProfGiri', b'#depressed', b'#Choco.eater', b'#Super_man', b'#op-bro', b'.', b\"It'\", b's', b'cool', b'#noice', b'@food']\n",
      "[b'\\xf0\\x9f\\x91\\x8f\\xf0\\x9f\\x8f\\xbb', b'#DhoniKeepsTheGlove']\n"
     ]
    }
   ],
   "source": [
    "print(word_tokenizer(b'@Zubair hungry@boi emailed.... food@abid.iiit.in that @explained.stuff spoke to @check. @choco_%boi is hot.@thiswillbreak. We will be getting 234,244$ from Sean Biggerstaff. Sean B. for short.v#ProfGiri #depressed #Choco.eater #Super_man #op-bro. It\\'s cool #noice @food'))\n",
    "print(word_tokenizer('👏🏻#DhoniKeepsTheGlove'.encode('utf-8')))"
   ]
  },
  {
   "cell_type": "code",
   "execution_count": 107,
   "metadata": {},
   "outputs": [],
   "source": [
    "def word_tokenizer(sentence):\n",
    "    scanner = re.Scanner([\n",
    "        (r'[\\x80-\\xff]+', lambda scanner,token: token),\n",
    "        (r'[A-Z0-9a-z]+[A-Z0-9a-z._%+-]*@[A-Z0-9a-z]+(?:\\.[A-Z0-9a-z]+)+',lambda scanner,token: token),\n",
    "        (r'(?<= )[$€£¥₹]?[0-9]+(?:[,.][0-9]+)*[$€£¥₹]?',lambda scanner,token: token),\n",
    "        (r'(?:(?:https?:\\/\\/(?:www.)?)|www.)[A-Z0-9a-z_-]+(?:\\.[A-Z0-9a-z_\\/-]+)+',lambda scanner,token: token),\n",
    "        (r'(?:(?<=[^A-Za-z0-9])|^)@[A-Z0-9a-z._+]+[A-Za-z0-9_]',lambda scanner,token: token),\n",
    "        (r'#[A-Za-z0-9]+(?:[\\._-][A-Za-z0-9]+)*',lambda scanner,token: token),\n",
    "        (r'\\.{3,}',lambda scanner,token: token),\n",
    "        (r'[!\"#$%\\&\\'()*+,\\-.:;<=>?@\\[\\\\\\/\\]\\^_`{\\|}~]',lambda scanner,token: token),\n",
    "        (r'[A-Z]\\.',lambda scanner,token: token),\n",
    "        (r'\\w+',lambda scanner,token: token),\n",
    "    ])\n",
    "    \n",
    "    results,remainder = scanner.scan(sentence)\n",
    "    \n",
    "    if(len(remainder)>0):\n",
    "        print(sentence)\n",
    "        print(results)\n",
    "        print(remainder)\n",
    "        macro_tokens = remainder.split(b' ')\n",
    "        for i in range(len(macro_tokens)):\n",
    "            results.append(macro_tokens[i])\n",
    "    return results"
   ]
  },
  {
   "cell_type": "code",
   "execution_count": null,
   "metadata": {},
   "outputs": [],
   "source": []
  }
 ],
 "metadata": {
  "kernelspec": {
   "display_name": "Python 3",
   "language": "python",
   "name": "python3"
  },
  "language_info": {
   "codemirror_mode": {
    "name": "ipython",
    "version": 3
   },
   "file_extension": ".py",
   "mimetype": "text/x-python",
   "name": "python",
   "nbconvert_exporter": "python",
   "pygments_lexer": "ipython3",
   "version": "3.7.3"
  }
 },
 "nbformat": 4,
 "nbformat_minor": 2
}
