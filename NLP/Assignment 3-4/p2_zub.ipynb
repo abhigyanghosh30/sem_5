{
 "cells": [
  {
   "cell_type": "code",
   "execution_count": 63,
   "metadata": {},
   "outputs": [],
   "source": [
    "from collections import Counter, defaultdict"
   ]
  },
  {
   "cell_type": "code",
   "execution_count": 62,
   "metadata": {},
   "outputs": [
    {
     "data": {
      "text/plain": [
       "(1, 2, 3, 4, 5, 6)"
      ]
     },
     "execution_count": 62,
     "metadata": {},
     "output_type": "execute_result"
    }
   ],
   "source": [
    "lis = [1, 2, 3, 4, 5, 6, 7]\n",
    "tuple(lis[:len(lis)-1])"
   ]
  },
  {
   "cell_type": "markdown",
   "metadata": {},
   "source": [
    "## A basic n-gram generator"
   ]
  },
  {
   "cell_type": "code",
   "execution_count": 61,
   "metadata": {},
   "outputs": [],
   "source": [
    "def reg_tokenize(sent):\n",
    "    return re.findall(r'[A-Z0-9a-z]+[A-Z0-9a-z._%+-]*@[A-Z0-9a-z]+(?:\\.[A-Z0-9a-z]+)+|(?<= )[$€£¥₹]?[0-9]+(?:[,.][0-9]+)*[$€£¥₹]?|(?:(?:https?:\\/\\/(?:www.)?)|www.)[A-Z0-9a-z_-]+(?:\\.[A-Z0-9a-z_\\/-]+)+|(?<= )@[A-Z0-9a-z._%+]+|#[A-Za-z0-9]+(?:\\.[A-Za-z0-9]+)*|\\.{3,}|[!\"#$%&\\'()*+,\\-./:;<=>?@\\[\\\\\\]\\^_`{\\|}~]|\\w+', sent)"
   ]
  },
  {
   "cell_type": "code",
   "execution_count": 64,
   "metadata": {},
   "outputs": [],
   "source": [
    "import re\n",
    "# from nltk.tokenize import word_tokenize\n",
    "\n",
    "def ngrams(sentence, n):\n",
    "    '''\n",
    "    This currently does not accomodate for numbers with punctuation.\n",
    "    '''\n",
    "    sentence = sentence.lower()\n",
    "    \n",
    "#     # Replace all none alphanumeric characters with spaces\n",
    "#     sentence = re.sub(r'[^a-zA-Z0-9\\s]', '', sentence)\n",
    "#     # Final output: all tokens\n",
    "#     tokens= [token for token in sentence.split(\" \") if token != \" \"]\n",
    "    \n",
    "    tokens = reg_tokenize(sentence)\n",
    "    \n",
    "    ngrams = zip(*[tokens[i:] for i in range(n)])\n",
    "    return [ngram for ngram in ngrams]"
   ]
  },
  {
   "cell_type": "code",
   "execution_count": 65,
   "metadata": {},
   "outputs": [],
   "source": [
    "def read_in_chunks(file_object, chunk_size=4096):\n",
    "    \"\"\"Lazy function (generator) to read a file piece by piece.\n",
    "    Default chunk size: 4k.\"\"\"\n",
    "    while True:\n",
    "        data = file_object.read(chunk_size)\n",
    "        if not data:\n",
    "            break\n",
    "        yield data\n"
   ]
  },
  {
   "cell_type": "code",
   "execution_count": 68,
   "metadata": {
    "scrolled": true
   },
   "outputs": [
    {
     "name": "stdout",
     "output_type": "stream",
     "text": [
      "CPU times: user 204 ms, sys: 13.6 ms, total: 217 ms\n",
      "Wall time: 249 ms\n"
     ]
    }
   ],
   "source": [
    "%%time\n",
    "\n",
    "def create_model(file=\"../corpus3.txt\", n=3):\n",
    "    '''\n",
    "    Takes a file to train on, an 'n'\n",
    "    Returns predictive n-gram model\n",
    "    '''\n",
    "    \n",
    "    # Create a placeholder for model\n",
    "    model = defaultdict(lambda: defaultdict(lambda: 0))\n",
    "\n",
    "    with open(file, 'r') as f:\n",
    "#         for piece in read_in_chunks(f, chunk_size=2097152):\n",
    "        \n",
    "        for line in f:\n",
    "            for ngram in ngrams(line, n=n):\n",
    "                wprec = tuple(ngram[:n-1])\n",
    "                waft = ngram[n-1]\n",
    "                model[wprec][waft] += 1\n",
    "        f.close()    \n",
    "\n",
    "#     for wprec in model:\n",
    "#         total_count = float(sum(model[wprec].values()))\n",
    "#         for waft in model[wprec]:\n",
    "#             model[wprec][waft] /= total_count\n",
    "            \n",
    "    return model\n",
    "\n",
    "model = create_model(n=3)"
   ]
  },
  {
   "cell_type": "code",
   "execution_count": 69,
   "metadata": {},
   "outputs": [
    {
     "data": {
      "text/plain": [
       "defaultdict(<function __main__.create_model.<locals>.<lambda>.<locals>.<lambda>()>,\n",
       "            {'the': 0.4166666666666667,\n",
       "             'bajirao': 0.013888888888888888,\n",
       "             'my': 0.06944444444444445,\n",
       "             'extremely': 0.013888888888888888,\n",
       "             'more': 0.013888888888888888,\n",
       "             'not': 0.06944444444444445,\n",
       "             'a': 0.125,\n",
       "             'jill': 0.013888888888888888,\n",
       "             'long': 0.013888888888888888,\n",
       "             'difficult': 0.013888888888888888,\n",
       "             'known': 0.013888888888888888,\n",
       "             'generally': 0.013888888888888888,\n",
       "             'as': 0.027777777777777776,\n",
       "             'tight': 0.013888888888888888,\n",
       "             'good': 0.027777777777777776,\n",
       "             'an': 0.041666666666666664,\n",
       "             'one': 0.013888888888888888,\n",
       "             'how': 0.013888888888888888,\n",
       "             'our': 0.013888888888888888,\n",
       "             'only': 0.013888888888888888,\n",
       "             'george': 0.013888888888888888,\n",
       "             'out': 0.013888888888888888,\n",
       "             '!': 0.013888888888888888})"
      ]
     },
     "execution_count": 69,
     "metadata": {},
     "output_type": "execute_result"
    }
   ],
   "source": [
    "model[('this','is',)]"
   ]
  },
  {
   "cell_type": "code",
   "execution_count": null,
   "metadata": {
    "scrolled": true
   },
   "outputs": [],
   "source": [
    "def perplexity(file='../corpus3.txt', model, n):\n",
    "    \n",
    "    perlexity = 1\n",
    "    \n",
    "    \n",
    "            \n",
    "#     test = ngrams(t)\n",
    "#     perplexity = 1\n",
    "#     N = 0\n",
    "#     for word in testset:\n",
    "#         N += 1\n",
    "#         perplexity = perplexity * (1/model[word])\n",
    "#     perplexity = pow(perplexity, 1/float(N)) \n",
    "    return perplexity"
   ]
  },
  {
   "cell_type": "code",
   "execution_count": null,
   "metadata": {},
   "outputs": [],
   "source": []
  }
 ],
 "metadata": {
  "kernelspec": {
   "display_name": "Python 3",
   "language": "python",
   "name": "python3"
  },
  "language_info": {
   "codemirror_mode": {
    "name": "ipython",
    "version": 3
   },
   "file_extension": ".py",
   "mimetype": "text/x-python",
   "name": "python",
   "nbconvert_exporter": "python",
   "pygments_lexer": "ipython3",
   "version": "3.7.3"
  }
 },
 "nbformat": 4,
 "nbformat_minor": 2
}
