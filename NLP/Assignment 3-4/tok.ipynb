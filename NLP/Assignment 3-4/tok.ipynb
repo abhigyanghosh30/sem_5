{
 "cells": [
  {
   "cell_type": "code",
   "execution_count": null,
   "metadata": {},
   "outputs": [],
   "source": [
    "import re\n",
    "import pickle\n",
    "\n",
    "corpus3_sentences = []\n",
    "f = open('corpus3.txt','r')\n",
    "corpus3_sentences=f.readlines()\n",
    "f.close()\n",
    "\n",
    "corpus4_sentences = []\n",
    "f = open('corpus4.txt','r',encoding='utf-8')\n",
    "corpus4_sentences=f.readlines()\n",
    "f.close()"
   ]
  },
  {
   "cell_type": "code",
   "execution_count": 4,
   "metadata": {},
   "outputs": [],
   "source": [
    "import re\n",
    "## pakka waala final\n",
    "def word_tokenizer(sentence):\n",
    "    scanner = re.Scanner([\n",
    "        (b\"[\\x80-\\xff]+\", lambda scanner,token: token),\n",
    "        (r\"[a-zA-Z0-9]+@([a-zA-Z0-9]+\\.*){2,3}\",lambda scanner,token: token),\n",
    "        (r\"http[s]*://[A-Z0-9a-z./]*\",lambda scanner,token: token),\n",
    "        (r'[A-Z]+[a-z]{0,3}.', lambda scanner,token:token),\n",
    "        (r\"#\\w+(.[\\w])*\",lambda scanner,token: token),\n",
    "        (r\"@\\w+(.[\\w])*\",lambda scanner,token: token),\n",
    "        (r\"[0-9]+% | [0-9]+\\ %\", lambda scanner,token: token),\n",
    "        (r\"[0-9.]+\", lambda scanner,token: token),\n",
    "        (r\"\\w+\", lambda scanner,token: token),\n",
    "        (r\"$[0-9]+(.[0-9]+)*\",lambda scanner,token: token),\n",
    "        (r\"\\s+\",lambda scanner,token: None),\n",
    "        (r\"\\n\",lambda scanner,token: None),\n",
    "        (r\"\\\\n\",lambda scanner,token: None),\n",
    "        (r\"[\\\",.?!`'’\\-@&;\\(\\):\\/#$\\*\\|=]+\", lambda scanner,token: token),\n",
    "        (r\"[0-9]+\", lambda scanner,token: token),\n",
    "    ])\n",
    "    \n",
    "    results,remainder = scanner.scan(sentence)\n",
    "    \n",
    "    if(len(remainder)>0):\n",
    "#         print(sentence)\n",
    "#         print(results)\n",
    "#         print(remainder)\n",
    "        macro_tokens = remainder.split(b' ')\n",
    "        for i in range(len(macro_tokens)):\n",
    "            results.append(macro_tokens[i])\n",
    "    return results"
   ]
  },
  {
   "cell_type": "code",
   "execution_count": 7,
   "metadata": {},
   "outputs": [
    {
     "name": "stdout",
     "output_type": "stream",
     "text": [
      "b'The  tower is being built .'\n",
      "b'@trump email i d is trump@abc.com.'\n",
      "b\"The  lamp he ' s buying is worth $ 5.80.\"\n",
      "b'The  website for the course is https://www.moodle.com or www . moodle . com .'\n",
      "b'He  has an apple , a banana and a guava .'\n",
      "b'Barry E. is a scientist , a doctor and an engineer .'\n",
      "b'#newyork i s ruled by @john .'\n",
      "b'@mark juist spent $ 500 million .'\n",
      "b'it is sad .... that he ate the building #sad ,@ happy .'\n",
      "b\"He' ll .... be .... present ..... at .... the ,,,,, conference ..... with .... mark@cuban.com #mark @cuban\"\n",
      "b'my birthday is on 25 Janua ry'\n",
      "b'my birthday is on 25 / 01'\n",
      "b'This  cost is 5.01.'\n",
      "b'The  IP  address is 127.0.0.1.'\n",
      "b'Barac k O. is going to @thewhitehouse a t 7 : 00 PM  #govern .'\n",
      "b''\n"
     ]
    }
   ],
   "source": [
    "f = open('test.txt','r',encoding='utf-8')\n",
    "corpus=f.readlines()\n",
    "f.close()\n",
    "for line in corpus:\n",
    "    print(b\" \".join(word_tokenizer(line.encode('utf-8'))))"
   ]
  },
  {
   "cell_type": "code",
   "execution_count": 11,
   "metadata": {},
   "outputs": [],
   "source": [
    "f = open('corpus3_token.txt','wb')\n",
    "for line in corpus3_sentences:\n",
    "    f.write((b\" \".join(word_tokenizer(line.encode('utf-8')))))\n",
    "    f.write(b\"\\n\")\n",
    "f.close()\n",
    "\n",
    "f = open('corpus4_token.txt','wb')\n",
    "for line in corpus4_sentences:\n",
    "    f.write((b\" \".join(word_tokenizer(line.encode('utf-8')))))\n",
    "    f.write(b'\\n')\n",
    "f.close()"
   ]
  },
  {
   "cell_type": "code",
   "execution_count": 51,
   "metadata": {},
   "outputs": [],
   "source": [
    "\n",
    "def n_gram(data,n=2):\n",
    "    diction = {}\n",
    "    for line in data:\n",
    "        tokens = word_tokenizer(line.encode('utf-8'))\n",
    "        for i in range(len(tokens)-n):\n",
    "            key = b' '.join(tokens[i:i+n])\n",
    "            if key not in diction:\n",
    "                diction[key] = 1\n",
    "            else:\n",
    "                diction[key] += 1\n",
    "    return diction\n",
    "    "
   ]
  },
  {
   "cell_type": "code",
   "execution_count": 52,
   "metadata": {},
   "outputs": [],
   "source": [
    "data_count=[[],[],[],[],[],[],[]]\n",
    "data_count[0] = [{}]\n",
    "data_count[1] = n_gram(corpus3_sentences,n=1)\n",
    "data_count[2] = n_gram(corpus3_sentences,n=2)\n",
    "data_count[3] = n_gram(corpus3_sentences,n=3)\n",
    "data_count[4] = n_gram(corpus3_sentences,n=4)\n",
    "data_count[5] = n_gram(corpus3_sentences,n=5)\n",
    "data_count[6] = n_gram(corpus3_sentences,n=6)"
   ]
  },
  {
   "cell_type": "code",
   "execution_count": 53,
   "metadata": {},
   "outputs": [
    {
     "name": "stdout",
     "output_type": "stream",
     "text": [
      "1560\n"
     ]
    }
   ],
   "source": [
    "print(data_count[1][b'is'])"
   ]
  },
  {
   "cell_type": "code",
   "execution_count": 19,
   "metadata": {},
   "outputs": [],
   "source": [
    "# import pickle\n",
    "# f = open('corpus3_1','wb')\n",
    "# pickle.dump(data_count_1,f)\n",
    "# f.close()\n",
    "# f = open('corpus3_2','wb')\n",
    "# pickle.dump(data_count_2,f)\n",
    "# f.close()\n",
    "# f = open('corpus3_3','wb')\n",
    "# pickle.dump(data_count_3,f)\n",
    "# f.close()\n",
    "# f = open('corpus3_4','wb')\n",
    "# pickle.dump(data_count_4,f)\n",
    "# f.close()\n",
    "# f = open('corpus3_5','wb')\n",
    "# pickle.dump(data_count_5,f)\n",
    "# f.close()\n",
    "# f = open('corpus3_6','wb')\n",
    "# pickle.dump(data_count_6,f)\n",
    "# f.close()\n"
   ]
  },
  {
   "cell_type": "code",
   "execution_count": 54,
   "metadata": {},
   "outputs": [
    {
     "data": {
      "text/plain": [
       "[<matplotlib.lines.Line2D at 0x7f003da1f3c8>]"
      ]
     },
     "execution_count": 54,
     "metadata": {},
     "output_type": "execute_result"
    },
    {
     "data": {
      "image/png": "[encoded data removed]",
      "text/plain": [
       "<Figure size 432x288 with 1 Axes>"
      ]
     },
     "metadata": {
      "needs_background": "light"
     },
     "output_type": "display_data"
    }
   ],
   "source": [
    "from matplotlib import pyplot as plt \n",
    "import operator\n",
    "\n",
    "f=open('corpus3_1','rb')\n",
    "unigrams=pickle.load(f)\n",
    "f.close()\n",
    "freq = []\n",
    "dsort = sorted(unigrams.items(), key=operator.itemgetter(1),reverse=True)\n",
    "for i in range(len(dsort)):\n",
    "    freq.append(dsort[i][1])\n",
    "plt.plot(freq)"
   ]
  },
  {
   "cell_type": "code",
   "execution_count": 55,
   "metadata": {},
   "outputs": [
    {
     "data": {
      "text/plain": [
       "[<matplotlib.lines.Line2D at 0x7f003d9354e0>]"
      ]
     },
     "execution_count": 55,
     "metadata": {},
     "output_type": "execute_result"
    },
    {
     "data": {
      "image/png": "[encoded data removed]",
      "text/plain": [
       "<Figure size 432x288 with 1 Axes>"
      ]
     },
     "metadata": {
      "needs_background": "light"
     },
     "output_type": "display_data"
    }
   ],
   "source": [
    "f=open('corpus3_1','rb')\n",
    "unigrams=pickle.load(f)\n",
    "f.close()\n",
    "freq = []\n",
    "dsort = sorted(unigrams.items(), key=operator.itemgetter(1),reverse=True)\n",
    "for i in range(len(dsort)):\n",
    "    freq.append(dsort[i][1])\n",
    "plt.plot(freq)"
   ]
  },
  {
   "cell_type": "code",
   "execution_count": 158,
   "metadata": {},
   "outputs": [],
   "source": [
    "def count_kn(ngram,highest_order):\n",
    "    print(\"count_kn\",ngram)\n",
    "    words = ngram.split(b' ')    \n",
    "    l = len(words)\n",
    "    c_kn=0\n",
    "    if(l==highest_order):\n",
    "        if ngram in data_count[l]:\n",
    "            c_kn = data_count[l][ngram]\n",
    "    else:\n",
    "#         w_n1 = b\" \".join(words[1:])\n",
    "        for key in data_count[l+1]:\n",
    "            if (b\" \".join(key.split(b\" \")[1:])) == ngram:\n",
    "#             if key == ngram:\n",
    "                c_kn += 1\n",
    "    print(c_kn)\n",
    "    return c_kn\n",
    "                \n",
    "def count_fn(ngram):\n",
    "    words = ngram.split(b' ')    \n",
    "    l = len(words)\n",
    "#     w_i = b\" \".join(words[:-1])\n",
    "#     print(w?_i)\n",
    "    count=0\n",
    "    for key in data_count[l+1]:\n",
    "        if (b\" \".join(key.split(b\" \")[:-1])) == ngram:\n",
    "            count += 1\n",
    "    return count\n",
    "    \n",
    "    \n",
    "def p_kn(ngram,highest_order=4,d=0.75):\n",
    "    print(\"Probability of \",ngram)\n",
    "    words = ngram.split(b' ')    \n",
    "    l = len(words)\n",
    "            \n",
    "    dem = 1\n",
    "    if(highest_order==l):\n",
    "        if b\" \".join(words[:-1]) in data_count[l-1]:\n",
    "            dem = data_count[l-1][b\" \".join(words[:-1]),highest_order]\n",
    "    else:\n",
    "        dem = len(data_count[l].keys())\n",
    "#     lam=(d*count_fn(ngram))/count_kn(b\" \".join(words[:-1]),highest_order)\n",
    "    \n",
    "    if(l==1):\n",
    "        ret = count_kn(ngram,highest_order)\n",
    "        print(ret)\n",
    "        return ret\n",
    "    \n",
    "    ret = (max(count_kn(ngram,highest_order)-d,0) + (d*count_fn(ngram)) * p_kn(b\" \".join(words[1:])))/dem\n",
    "    print(ret)\n",
    "    return ret            "
   ]
  },
  {
   "cell_type": "code",
   "execution_count": 159,
   "metadata": {
    "scrolled": true
   },
   "outputs": [
    {
     "name": "stdout",
     "output_type": "stream",
     "text": [
      "Probability of  b'This man is'\n",
      "count_kn b'This man is'\n",
      "0\n",
      "Probability of  b'man is'\n",
      "count_kn b'man is'\n",
      "6\n",
      "Probability of  b'is'\n",
      "count_kn b'is'\n",
      "418\n",
      "418\n",
      "0.10500912131346914\n",
      "0.0\n",
      "0.0\n"
     ]
    }
   ],
   "source": [
    "# for key in data_count[5]:\n",
    "print(p_kn(b'This man is',highest_order=3))"
   ]
  },
  {
   "cell_type": "code",
   "execution_count": null,
   "metadata": {},
   "outputs": [],
   "source": []
  }
 ],
 "metadata": {
  "kernelspec": {
   "display_name": "Python 3",
   "language": "python",
   "name": "python3"
  }
 },
 "nbformat": 4,
 "nbformat_minor": 2
}
